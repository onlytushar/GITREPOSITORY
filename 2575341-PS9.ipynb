{
 "cells": [
  {
   "cell_type": "markdown",
   "id": "4f478f2d",
   "metadata": {},
   "source": [
    "# 1. Create a 3x3x3 array with random values\n",
    "\n",
    "1\n",
    "\n",
    "2\n",
    "\n",
    "In []:"
   ]
  },
  {
   "cell_type": "code",
   "execution_count": 13,
   "id": "50f68951",
   "metadata": {},
   "outputs": [
    {
     "name": "stdout",
     "output_type": "stream",
     "text": [
      "random_array [[[0.2938289  0.35686842 0.48067134]\n",
      "  [0.97540579 0.96091057 0.31451237]\n",
      "  [0.42746356 0.48274383 0.49396246]]\n",
      "\n",
      " [[0.03667847 0.0990589  0.92614062]\n",
      "  [0.24883462 0.58417213 0.43071709]\n",
      "  [0.10253409 0.43382311 0.05490057]]\n",
      "\n",
      " [[0.03590925 0.98011696 0.77139897]\n",
      "  [0.21441032 0.16194984 0.89671305]\n",
      "  [0.9290799  0.95141602 0.44363609]]]\n"
     ]
    }
   ],
   "source": [
    "import numpy as np\n",
    "random_array = np.random.rand(3, 3, 3)\n",
    "print('random_array',random_array)"
   ]
  },
  {
   "cell_type": "markdown",
   "id": "2b047351",
   "metadata": {},
   "source": [
    "# 2.Create a 5x5 matrix with values 1,2,3,4 just below the diagonal\n",
    "\n",
    "In []: 1\n"
   ]
  },
  {
   "cell_type": "code",
   "execution_count": 14,
   "id": "a713663c",
   "metadata": {},
   "outputs": [
    {
     "name": "stdout",
     "output_type": "stream",
     "text": [
      "[[0 0 0 0 0]\n",
      " [1 0 0 0 0]\n",
      " [0 2 0 0 0]\n",
      " [0 0 3 0 0]\n",
      " [0 0 0 4 0]]\n"
     ]
    }
   ],
   "source": [
    "import numpy as np\n",
    "matrix = np.diag(1 + np.arange(4), k=-1)\n",
    "print(matrix)"
   ]
  },
  {
   "cell_type": "markdown",
   "id": "e5acaf27",
   "metadata": {},
   "source": [
    "# 3.Create a 8x8 matrix and fill it with a checkerboard pattern\n",
    "\n",
    "In [ ]: 1"
   ]
  },
  {
   "cell_type": "code",
   "execution_count": 16,
   "id": "86b62a40",
   "metadata": {},
   "outputs": [
    {
     "name": "stdout",
     "output_type": "stream",
     "text": [
      "[[0 1 0 1 0 1 0 1]\n",
      " [1 0 1 0 1 0 1 0]\n",
      " [0 1 0 1 0 1 0 1]\n",
      " [1 0 1 0 1 0 1 0]\n",
      " [0 1 0 1 0 1 0 1]\n",
      " [1 0 1 0 1 0 1 0]\n",
      " [0 1 0 1 0 1 0 1]\n",
      " [1 0 1 0 1 0 1 0]]\n"
     ]
    }
   ],
   "source": [
    "import numpy as np\n",
    "checkerboard = np.zeros((8, 8), dtype=int)\n",
    "checkerboard[1::2, ::2] = 1\n",
    "checkerboard[::2, 1::2] = 1\n",
    "print(checkerboard)"
   ]
  },
  {
   "cell_type": "markdown",
   "id": "379bc792",
   "metadata": {},
   "source": [
    "# 4. Normalize a 5x5 random matrix\n",
    "\n",
    "1\n",
    "\n",
    "In []:"
   ]
  },
  {
   "cell_type": "code",
   "execution_count": 19,
   "id": "f8a8427b",
   "metadata": {},
   "outputs": [
    {
     "name": "stdout",
     "output_type": "stream",
     "text": [
      "Original Matrix:\n",
      "[[0.37616828 0.94295212 0.27706004 0.02440212 0.88978216]\n",
      " [0.69999689 0.50700062 0.93512019 0.89402712 0.99392009]\n",
      " [0.13560054 0.50880027 0.49646461 0.51506257 0.37679741]\n",
      " [0.63676102 0.55231197 0.76901844 0.64634614 0.68178897]\n",
      " [0.15903916 0.0971391  0.31733133 0.90414215 0.16045305]]\n",
      "\n",
      "Normalized Matrix:\n",
      "[[-0.56288486  1.38563864 -0.90360513 -1.77220768  1.20284776]\n",
      " [ 0.55039257 -0.1131016   1.35871356  1.21744135  1.5608594 ]\n",
      " [-1.38992307 -0.10691464 -0.14932292 -0.08538574 -0.56072198]\n",
      " [ 0.33299651  0.04267248  0.78767902  0.36594879  0.4877963 ]\n",
      " [-1.3093444  -1.52214813 -0.76515804  1.25221541 -1.30448361]]\n"
     ]
    }
   ],
   "source": [
    "import numpy as np\n",
    "random_matrix = np.random.rand(5, 5)\n",
    "mean = np.mean(random_matrix)\n",
    "std_dev = np.std(random_matrix)\n",
    "normalized_matrix = (random_matrix - mean) / std_dev\n",
    "\n",
    "print(\"Original Matrix:\")\n",
    "print(random_matrix)\n",
    "print(\"\\nNormalized Matrix:\")\n",
    "print(normalized_matrix)\n"
   ]
  },
  {
   "cell_type": "markdown",
   "id": "82d5df7b",
   "metadata": {},
   "source": [
    "# 5. How to find common values between two arrays?\n",
    "\n",
    "In []: 1"
   ]
  },
  {
   "cell_type": "code",
   "execution_count": 1,
   "id": "eab6faa9",
   "metadata": {},
   "outputs": [
    {
     "name": "stdout",
     "output_type": "stream",
     "text": [
      "Original Matrix:\n",
      "[[0.22791114 0.09736934 0.1977417 ]\n",
      " [0.97301513 0.17462444 0.92827716]\n",
      " [0.97420436 0.5852987  0.15062562]\n",
      " [0.59629935 0.21437862 0.45080203]]\n",
      "\n",
      "Normalized Matrix:\n",
      "[[-0.72560777 -1.12646126 -0.81824879]\n",
      " [ 1.56237614 -0.88923475  1.42499967]\n",
      " [ 1.56602787  0.37181888 -0.96292771]\n",
      " [ 0.40559847 -0.76716196 -0.04117879]]\n"
     ]
    }
   ],
   "source": [
    "import numpy as np\n",
    "random_matrix = np.random.rand(4, 3)\n",
    "mean = np.mean(random_matrix)\n",
    "std_dev = np.std(random_matrix)\n",
    "normalized_matrix = (random_matrix - mean) / std_dev\n",
    "\n",
    "print(\"Original Matrix:\")\n",
    "print(random_matrix)\n",
    "print(\"\\nNormalized Matrix:\")\n",
    "print(normalized_matrix)\n"
   ]
  },
  {
   "cell_type": "markdown",
   "id": "b3c74fd0",
   "metadata": {},
   "source": [
    "# 6. How to get the dates of yesterday, today and tomorrow?\n",
    "\n",
    "In [ ]: 1"
   ]
  },
  {
   "cell_type": "code",
   "execution_count": 10,
   "id": "6b595fc6",
   "metadata": {},
   "outputs": [
    {
     "name": "stdout",
     "output_type": "stream",
     "text": [
      "Yesterday: 2023-09-20 14:36:22.051502\n",
      "Today: 2023-09-21 14:36:22.051502\n",
      "Tomorrow: 2023-09-22 14:36:22.051502\n"
     ]
    }
   ],
   "source": [
    "from datetime import datetime, timedelta\n",
    "\n",
    "today = datetime.now()\n",
    "yesterday = today - timedelta(days=1)\n",
    "tomorrow = today + timedelta(days=1)\n",
    "\n",
    "print(\"Yesterday:\", yesterday)\n",
    "print(\"Today:\", today)\n",
    "print(\"Tomorrow:\", tomorrow)"
   ]
  },
  {
   "cell_type": "markdown",
   "id": "fdcc306e",
   "metadata": {},
   "source": [
    "# 7. Consider two random array A and B, check if they are equal\n"
   ]
  },
  {
   "cell_type": "code",
   "execution_count": 25,
   "id": "3f8c42c4",
   "metadata": {},
   "outputs": [
    {
     "name": "stdout",
     "output_type": "stream",
     "text": [
      "Arrays A and B are not equal.\n"
     ]
    }
   ],
   "source": [
    "import numpy as np\n",
    "A = np.random.rand(98, 5)\n",
    "B = np.random.rand(5, 5)\n",
    "if np.array_equal(A, B):\n",
    "    print(\"Arrays A and B are equal.\")\n",
    "else:\n",
    "    print(\"Arrays A and B are not equal.\")"
   ]
  },
  {
   "cell_type": "markdown",
   "id": "3a90c779",
   "metadata": {},
   "source": [
    "# 8.Create random vector of size 10 and replace the maximum value by 0\n",
    "\n",
    "In []: 1"
   ]
  },
  {
   "cell_type": "code",
   "execution_count": 27,
   "id": "879ba7e6",
   "metadata": {},
   "outputs": [
    {
     "name": "stdout",
     "output_type": "stream",
     "text": [
      "Random Vector with Maximum Value Replaced:\n",
      "[0.29350329 0.6061975  0.         0.60131837 0.07433782 0.73961935\n",
      " 0.87672628 0.24771798 0.59586846 0.41070136]\n"
     ]
    }
   ],
   "source": [
    "import numpy as np\n",
    "random_vector = np.random.rand(10)\n",
    "max_index = np.argmax(random_vector)\n",
    "random_vector[max_index] = 0\n",
    "\n",
    "print(\"Random Vector with Maximum Value Replaced:\")\n",
    "print(random_vector)\n"
   ]
  },
  {
   "cell_type": "markdown",
   "id": "6e38fde7",
   "metadata": {},
   "source": [
    "# 9. How to print all the values of an array?\n",
    "\n",
    "In []: 1"
   ]
  },
  {
   "cell_type": "code",
   "execution_count": 28,
   "id": "74af0bbc",
   "metadata": {},
   "outputs": [
    {
     "name": "stdout",
     "output_type": "stream",
     "text": [
      "[1 2 3 4 5]\n"
     ]
    }
   ],
   "source": [
    "import numpy as np\n",
    "my_array = np.array([1, 2, 3, 4, 5])\n",
    "print(my_array)"
   ]
  },
  {
   "cell_type": "markdown",
   "id": "44f606f6",
   "metadata": {},
   "source": [
    "# 10.Subtract the mean of each row of a matrix\n",
    "\n",
    "In [ ]: 1"
   ]
  },
  {
   "cell_type": "code",
   "execution_count": 32,
   "id": "6a926444",
   "metadata": {},
   "outputs": [
    {
     "name": "stdout",
     "output_type": "stream",
     "text": [
      "[[-1.  0.  1.]\n",
      " [-1.  0.  1.]\n",
      " [-1.  0.  1.]]\n"
     ]
    }
   ],
   "source": [
    "import numpy as np\n",
    "matrix = np.array([[1, 2, 3],\n",
    "                   [4, 5, 6],\n",
    "                   [7, 8, 9]])\n",
    "row_means = np.mean(matrix, axis=1, keepdims=True)\n",
    "matrix_minus_mean = matrix - row_means\n",
    "\n",
    "print(matrix_minus_mean)\n"
   ]
  },
  {
   "cell_type": "markdown",
   "id": "8cb58380",
   "metadata": {},
   "source": [
    "# 11. Consider a given vector, how to add 1 to each element indexed by a second vector (be careful with repeated indices)?\n",
    "\n",
    "In []:  1\n",
    "\n",
    "In [ ]: 1\n"
   ]
  },
  {
   "cell_type": "code",
   "execution_count": 34,
   "id": "98e9b480",
   "metadata": {},
   "outputs": [
    {
     "name": "stdout",
     "output_type": "stream",
     "text": [
      "[[-1.  0.  1.]\n",
      " [-1.  0.  1.]\n",
      " [-1.  0.  1.]]\n"
     ]
    }
   ],
   "source": [
    "import numpy as np\n",
    "matrix = np.array([[1, 2, 3],\n",
    "                   [4, 5, 6],\n",
    "                   [7, 8, 9]])\n",
    "row_means = np.mean(matrix, axis=1, keepdims=True)\n",
    "matrix_minus_mean = matrix - row_means\n",
    "\n",
    "print(matrix_minus_mean)\n"
   ]
  },
  {
   "cell_type": "markdown",
   "id": "5bb46a07",
   "metadata": {},
   "source": [
    "# 12.How to get the diagonal of a dot product?\n",
    "\n",
    "In []: 1"
   ]
  },
  {
   "cell_type": "code",
   "execution_count": 35,
   "id": "84becca7",
   "metadata": {},
   "outputs": [
    {
     "name": "stdout",
     "output_type": "stream",
     "text": [
      "[30 69 90]\n"
     ]
    }
   ],
   "source": [
    "import numpy as np\n",
    "matrix1 = np.array([[1, 2, 3],\n",
    "                    [4, 5, 6],\n",
    "                    [7, 8, 9]])\n",
    "\n",
    "matrix2 = np.array([[9, 8, 7],\n",
    "                    [6, 5, 4],\n",
    "                    [3, 2, 1]])\n",
    "dot_product = np.dot(matrix1, matrix2)\n",
    "diagonal_elements = np.diagonal(dot_product)\n",
    "\n",
    "print(diagonal_elements)\n"
   ]
  },
  {
   "cell_type": "markdown",
   "id": "3ecc11eb",
   "metadata": {},
   "source": [
    "# 13. How to find the most frequent value in an array?\n",
    "\n",
    "In [3]: 1 x = np.random.randint(0,10,58)\n",
    "\n",
    "2 x Out [3]: array([7, 4, 5, 3, 3, 6, 5, 8, 1, 5, 1, 1, 8, 7, 4, 5, 8, 7, 3, 2, 3, 6, 1, 5, 3, 3, 7, 5, 0, 3, 8, 7, 1, 4, 1, 4, 1, 1, 1, 6, 6, 8, 6, 8, 3, 4, 4, 7, 8, 0])"
   ]
  },
  {
   "cell_type": "code",
   "execution_count": 36,
   "id": "1f648469",
   "metadata": {},
   "outputs": [
    {
     "name": "stdout",
     "output_type": "stream",
     "text": [
      "The most frequent value is: 3\n"
     ]
    }
   ],
   "source": [
    "import numpy as np\n",
    "x = np.random.randint(0, 10, 58)\n",
    "most_frequent_value = np.bincount(x).argmax()\n",
    "\n",
    "print(f\"The most frequent value is: {most_frequent_value}\")\n"
   ]
  },
  {
   "cell_type": "markdown",
   "id": "cfdb511a",
   "metadata": {},
   "source": [
    "# 14. How to get the n largest values of an array\n",
    "\n",
    "In []: 1\n",
    "\n",
    "In []: 1"
   ]
  },
  {
   "cell_type": "code",
   "execution_count": 37,
   "id": "68360d87",
   "metadata": {},
   "outputs": [
    {
     "name": "stdout",
     "output_type": "stream",
     "text": [
      "The 3 largest values are: [7 9 8]\n"
     ]
    }
   ],
   "source": [
    "import numpy as np\n",
    "arr = np.array([4, 2, 9, 7, 5, 1, 8, 3, 6])\n",
    "n = 3\n",
    "partitioned = np.partition(arr, -n)\n",
    "n_largest = partitioned[-n:]\n",
    "\n",
    "print(f\"The {n} largest values are: {n_largest}\")\n"
   ]
  },
  {
   "cell_type": "markdown",
   "id": "8be8ff05",
   "metadata": {},
   "source": [
    "# 15. How to create a record array from a regular array?\n"
   ]
  },
  {
   "cell_type": "code",
   "execution_count": 38,
   "id": "44750db0",
   "metadata": {},
   "outputs": [
    {
     "name": "stdout",
     "output_type": "stream",
     "text": [
      "[1 2 3]\n",
      "['Roman' 'Tushar' 'mannat']\n",
      "[25 30 35]\n"
     ]
    }
   ],
   "source": [
    "import numpy as np\n",
    "regular_array = np.array([(1, 'Roman', 25),\n",
    "                          (2, 'Tushar', 30),\n",
    "                          (3, 'mannat', 35)],\n",
    "                         dtype=[('id', int), ('name', 'U10'), ('age', int)])\n",
    "record_array = np.rec.array(regular_array)\n",
    "print(record_array.id)  \n",
    "print(record_array.name) \n",
    "print(record_array.age)  \n"
   ]
  },
  {
   "cell_type": "markdown",
   "id": "dd1a44c1",
   "metadata": {},
   "source": [
    "# 16. How to swap two rows of an array?\n",
    "\n",
    "In []: 1\n",
    "\n",
    "In [ ]: 1\n"
   ]
  },
  {
   "cell_type": "code",
   "execution_count": 39,
   "id": "710d341a",
   "metadata": {},
   "outputs": [
    {
     "name": "stdout",
     "output_type": "stream",
     "text": [
      "Array after swapping rows:\n",
      "[[4 5 6]\n",
      " [1 2 3]\n",
      " [7 8 9]]\n"
     ]
    }
   ],
   "source": [
    "import numpy as np\n",
    "array = np.array([[1, 2, 3],\n",
    "                  [4, 5, 6],\n",
    "                  [7, 8, 9]])\n",
    "row1 = 0 \n",
    "row2 = 1 \n",
    "temp_row = array[row1].copy()\n",
    "\n",
    "array[row1] = array[row2]\n",
    "array[row2] = temp_row\n",
    "\n",
    "print(\"Array after swapping rows:\")\n",
    "print(array)\n",
    "\n"
   ]
  },
  {
   "cell_type": "markdown",
   "id": "291c592f",
   "metadata": {},
   "source": [
    "# 17. Write python code to reshape to the next dimension of numpy array?\n",
    "\n",
    "In [2]: 1 x=np.array([[23,34,121][23,22,67][686,434,123]]) 2 x\n",
    "\n",
    "Out [2]: array([[ 23, 34, 121],\n",
    "\n",
    "[23, 22, 67), [686, 434, 123]])\n",
    "\n",
    "In []: 1\n",
    "\n",
    "In []: 1\n",
    "\n",
    "In []: 1"
   ]
  },
  {
   "cell_type": "code",
   "execution_count": 40,
   "id": "b4f4b756",
   "metadata": {},
   "outputs": [],
   "source": [
    "import numpy as np\n",
    "\n",
    "x = np.array([[23, 34, 121],\n",
    "              [23, 22, 67],\n",
    "              [686, 434, 123]])\n"
   ]
  },
  {
   "cell_type": "code",
   "execution_count": 41,
   "id": "6b818621",
   "metadata": {},
   "outputs": [
    {
     "name": "stdout",
     "output_type": "stream",
     "text": [
      "[[[ 23]\n",
      "  [ 34]\n",
      "  [121]]\n",
      "\n",
      " [[ 23]\n",
      "  [ 22]\n",
      "  [ 67]]\n",
      "\n",
      " [[686]\n",
      "  [434]\n",
      "  [123]]]\n"
     ]
    }
   ],
   "source": [
    "\n",
    "reshaped_x = x.reshape(x.shape[0], x.shape[1], 1)\n",
    "\n",
    "print(reshaped_x)\n"
   ]
  },
  {
   "cell_type": "code",
   "execution_count": null,
   "id": "dee84930",
   "metadata": {},
   "outputs": [],
   "source": []
  }
 ],
 "metadata": {
  "kernelspec": {
   "display_name": "Python 3 (ipykernel)",
   "language": "python",
   "name": "python3"
  },
  "language_info": {
   "codemirror_mode": {
    "name": "ipython",
    "version": 3
   },
   "file_extension": ".py",
   "mimetype": "text/x-python",
   "name": "python",
   "nbconvert_exporter": "python",
   "pygments_lexer": "ipython3",
   "version": "3.11.4"
  }
 },
 "nbformat": 4,
 "nbformat_minor": 5
}
