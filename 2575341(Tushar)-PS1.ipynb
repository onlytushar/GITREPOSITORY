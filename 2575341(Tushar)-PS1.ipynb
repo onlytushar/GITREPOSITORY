{
 "cells": [
  {
   "cell_type": "markdown",
   "id": "29351624",
   "metadata": {},
   "source": [
    "# 1 Manipulating using a list."
   ]
  },
  {
   "cell_type": "markdown",
   "id": "5878cd62",
   "metadata": {},
   "source": [
    "i)To add new elements to the end of list \n"
   ]
  },
  {
   "cell_type": "code",
   "execution_count": 2,
   "id": "5e57d410",
   "metadata": {},
   "outputs": [
    {
     "name": "stdout",
     "output_type": "stream",
     "text": [
      "[1, 22, 34, 2, 576]\n"
     ]
    }
   ],
   "source": [
    "first_list=[1,22,34,2]\n",
    "first_list.append(576)\n",
    "print(first_list)"
   ]
  },
  {
   "cell_type": "markdown",
   "id": "c7a43bf4",
   "metadata": {},
   "source": [
    "ii)To reverse the element in the list\n"
   ]
  },
  {
   "cell_type": "code",
   "execution_count": 5,
   "id": "fafe439b",
   "metadata": {},
   "outputs": [
    {
     "name": "stdout",
     "output_type": "stream",
     "text": [
      "[46, 7, 4]\n"
     ]
    }
   ],
   "source": [
    "first_list=[4,7,46]\n",
    "first_list.reverse()\n",
    "print(first_list)"
   ]
  },
  {
   "cell_type": "markdown",
   "id": "ca106e4c",
   "metadata": {},
   "source": [
    "iii)To display the same list of the elements multiple times"
   ]
  },
  {
   "cell_type": "code",
   "execution_count": 6,
   "id": "a606ebc0",
   "metadata": {},
   "outputs": [
    {
     "name": "stdout",
     "output_type": "stream",
     "text": [
      "[3, 5, 6, 3, 5, 6, 3, 5, 6]\n"
     ]
    }
   ],
   "source": [
    "first_list=[3,5,6]\n",
    "final_list=first_list*3\n",
    "print(final_list)"
   ]
  },
  {
   "cell_type": "markdown",
   "id": "8eae10b7",
   "metadata": {},
   "source": [
    "iv) To concatenate two lists\n",
    "    "
   ]
  },
  {
   "cell_type": "code",
   "execution_count": 12,
   "id": "d06e69c3",
   "metadata": {},
   "outputs": [
    {
     "name": "stdout",
     "output_type": "stream",
     "text": [
      "[77, 73, 74, 88, 84, 86]\n"
     ]
    }
   ],
   "source": [
    "f_list=[77,73,74]\n",
    "second_list=[88,84,86]\n",
    "concatenated_list=f_list+second_list\n",
    "print(concatenated_list)"
   ]
  },
  {
   "cell_type": "markdown",
   "id": "9e931c17",
   "metadata": {},
   "source": [
    "v) To sort elements in list in ascending order\n"
   ]
  },
  {
   "cell_type": "code",
   "execution_count": 14,
   "id": "6ebce63e",
   "metadata": {},
   "outputs": [
    {
     "name": "stdout",
     "output_type": "stream",
     "text": [
      "[8, 9, 33, 36]\n"
     ]
    }
   ],
   "source": [
    "list=[9,36,8,33]\n",
    "list.sort()\n",
    "print(list)"
   ]
  },
  {
   "cell_type": "markdown",
   "id": "2801dcb4",
   "metadata": {},
   "source": [
    "# 2 Write a Python program to do in the tuples"
   ]
  },
  {
   "cell_type": "markdown",
   "id": "7206f60e",
   "metadata": {},
   "source": [
    "i)Manipilate Using Tuple"
   ]
  },
  {
   "cell_type": "code",
   "execution_count": 15,
   "id": "6c0dfc2f",
   "metadata": {},
   "outputs": [
    {
     "name": "stdout",
     "output_type": "stream",
     "text": [
      "New Tuple (4, 24, 34, 14, 74, 44, 54, 64)\n"
     ]
    }
   ],
   "source": [
    "Tuple1=(4,24,34,14,74)\n",
    "new_tup=Tuple1+(44,54,64)\n",
    "print(\"New Tuple\",new_tup)"
   ]
  },
  {
   "cell_type": "markdown",
   "id": "e4eafaa7",
   "metadata": {},
   "source": [
    "ii)To add new elements to the end of tuple"
   ]
  },
  {
   "cell_type": "code",
   "execution_count": 21,
   "id": "4512616e",
   "metadata": {},
   "outputs": [
    {
     "name": "stdout",
     "output_type": "stream",
     "text": [
      "(4, 24, 34, 14, 74, 6, 6, 6)\n"
     ]
    }
   ],
   "source": [
    "element=6\n",
    "Tuple1 += (element,)\n",
    "print(Tuple1)"
   ]
  },
  {
   "cell_type": "markdown",
   "id": "4e2a876c",
   "metadata": {},
   "source": [
    "To rev elements in tuple"
   ]
  },
  {
   "cell_type": "code",
   "execution_count": 24,
   "id": "9fa90ec0",
   "metadata": {},
   "outputs": [
    {
     "name": "stdout",
     "output_type": "stream",
     "text": [
      "(6, 6, 6, 74, 14, 34, 24, 4)\n"
     ]
    }
   ],
   "source": [
    "Tuple1 = Tuple1[::-1]\n",
    "print(Tuple1)"
   ]
  },
  {
   "cell_type": "markdown",
   "id": "12b73c86",
   "metadata": {},
   "source": [
    "To display element of same tuple multi time"
   ]
  },
  {
   "cell_type": "code",
   "execution_count": 28,
   "id": "723764a9",
   "metadata": {},
   "outputs": [
    {
     "name": "stdout",
     "output_type": "stream",
     "text": [
      "(6, 6, 6, 74, 14, 34, 24, 4, 6, 6, 6, 74, 14, 34, 24, 4, 6, 6, 6, 74, 14, 34, 24, 4, 6, 6, 6, 74, 14, 34, 24, 4)\n"
     ]
    }
   ],
   "source": [
    "new_tuple = Tuple1*4\n",
    "print(new_tuple)"
   ]
  },
  {
   "cell_type": "markdown",
   "id": "dc59d38d",
   "metadata": {},
   "source": [
    "To conatenate 2 tuple"
   ]
  },
  {
   "cell_type": "code",
   "execution_count": 29,
   "id": "95746982",
   "metadata": {},
   "outputs": [
    {
     "name": "stdout",
     "output_type": "stream",
     "text": [
      "(6, 6, 6, 74, 14, 34, 24, 4, 8, 56, 7)\n"
     ]
    }
   ],
   "source": [
    "cnct_tuple = (8,56,7)\n",
    "result = Tuple1 + cnct_tuple\n",
    "print(result)"
   ]
  },
  {
   "cell_type": "markdown",
   "id": "65a6b194",
   "metadata": {},
   "source": [
    "To sort the element in the list in asending order"
   ]
  },
  {
   "cell_type": "code",
   "execution_count": 31,
   "id": "6c5aa871",
   "metadata": {},
   "outputs": [
    {
     "name": "stdout",
     "output_type": "stream",
     "text": [
      "srted tuple in asending ord (4, 6, 6, 6, 14, 24, 34, 74)\n"
     ]
    }
   ],
   "source": [
    "sorted_tuple = tuple(sorted(Tuple1))\n",
    "print(\"srted tuple in asending ord\",sorted_tuple)"
   ]
  },
  {
   "cell_type": "markdown",
   "id": "8ba14bac",
   "metadata": {},
   "source": [
    "# 3  Write a python program to implement following using list\n"
   ]
  },
  {
   "cell_type": "markdown",
   "id": "72263c31",
   "metadata": {},
   "source": [
    "1)Create the list with int(min 10 num)"
   ]
  },
  {
   "cell_type": "code",
   "execution_count": 32,
   "id": "60646797",
   "metadata": {},
   "outputs": [
    {
     "name": "stdout",
     "output_type": "stream",
     "text": [
      "[1, 2, 3, 4, 5, 6, 7, 8, 9, 10]\n"
     ]
    }
   ],
   "source": [
    "my_list = [1,2,3,4,5,6,7,8,9,10]\n",
    "print(my_list)"
   ]
  },
  {
   "cell_type": "markdown",
   "id": "317de496",
   "metadata": {},
   "source": [
    "how to display last num in the list"
   ]
  },
  {
   "cell_type": "code",
   "execution_count": 33,
   "id": "52c0ab32",
   "metadata": {},
   "outputs": [
    {
     "name": "stdout",
     "output_type": "stream",
     "text": [
      "last no  10\n"
     ]
    }
   ],
   "source": [
    "last_num = my_list[-1]\n",
    "print(\"last no \",last_num)"
   ]
  },
  {
   "cell_type": "markdown",
   "id": "67f68d13",
   "metadata": {},
   "source": [
    "command for displaying value from the list"
   ]
  },
  {
   "cell_type": "code",
   "execution_count": 35,
   "id": "8eec2b84",
   "metadata": {},
   "outputs": [
    {
     "name": "stdout",
     "output_type": "stream",
     "text": [
      "values from the index 0 to 6 [1, 2, 3, 4, 5, 6]\n"
     ]
    }
   ],
   "source": [
    "values_0_6 = my_list[0:6]\n",
    "print(\"values from the index 0 to 6\",values_0_6)"
   ]
  },
  {
   "cell_type": "markdown",
   "id": "f0cd54dc",
   "metadata": {},
   "source": [
    "cmd for displaying the values from the list\n"
   ]
  },
  {
   "cell_type": "code",
   "execution_count": 39,
   "id": "2c07833a",
   "metadata": {},
   "outputs": [
    {
     "ename": "SyntaxError",
     "evalue": "invalid syntax (2226429536.py, line 1)",
     "output_type": "error",
     "traceback": [
      "\u001b[1;36m  Cell \u001b[1;32mIn[39], line 1\u001b[1;36m\u001b[0m\n\u001b[1;33m    Display values from the list [2:]\u001b[0m\n\u001b[1;37m            ^\u001b[0m\n\u001b[1;31mSyntaxError\u001b[0m\u001b[1;31m:\u001b[0m invalid syntax\n"
     ]
    }
   ],
   "source": [
    "Display values from the list [2:]\n",
    "value = my_list[2:]\n",
    "print(\"values till index 5\",value)"
   ]
  },
  {
   "cell_type": "markdown",
   "id": "f719a0b3",
   "metadata": {},
   "source": [
    "# 4  Write a python program tuple1=(10,50,30,40,50)\n"
   ]
  },
  {
   "cell_type": "markdown",
   "id": "b45e38ea",
   "metadata": {},
   "source": [
    "# 1) to display element 10 and 50 from tuple1\n"
   ]
  },
  {
   "cell_type": "code",
   "execution_count": 40,
   "id": "27d5deb8",
   "metadata": {},
   "outputs": [
    {
     "name": "stdout",
     "output_type": "stream",
     "text": [
      "10 50\n"
     ]
    }
   ],
   "source": [
    "tuple1 = (10,50,30,40,20)\n",
    "print(tuple1[0],tuple1[1])"
   ]
  },
  {
   "cell_type": "markdown",
   "id": "cb0420d1",
   "metadata": {},
   "source": [
    "2)to display length of tuple"
   ]
  },
  {
   "cell_type": "code",
   "execution_count": 41,
   "id": "58b90069",
   "metadata": {},
   "outputs": [
    {
     "name": "stdout",
     "output_type": "stream",
     "text": [
      "5\n"
     ]
    }
   ],
   "source": [
    "print(len(tuple1))"
   ]
  },
  {
   "cell_type": "markdown",
   "id": "23b2bf37",
   "metadata": {},
   "source": [
    "3) to find min element from the tuple\n",
    "\n"
   ]
  },
  {
   "cell_type": "code",
   "execution_count": 42,
   "id": "ee8afdcc",
   "metadata": {},
   "outputs": [
    {
     "name": "stdout",
     "output_type": "stream",
     "text": [
      "10\n"
     ]
    }
   ],
   "source": [
    "min_ele = min(tuple1)\n",
    "print(min_ele)\n"
   ]
  },
  {
   "cell_type": "markdown",
   "id": "3e88ac94",
   "metadata": {},
   "source": [
    "to add all the elements in the tuple"
   ]
  },
  {
   "cell_type": "code",
   "execution_count": 43,
   "id": "8da86c9c",
   "metadata": {},
   "outputs": [
    {
     "name": "stdout",
     "output_type": "stream",
     "text": [
      "150\n"
     ]
    }
   ],
   "source": [
    "sum_ele = sum(tuple1)\n",
    "print(sum_ele)"
   ]
  },
  {
   "cell_type": "markdown",
   "id": "1feaa4e8",
   "metadata": {},
   "source": [
    "display same tuple multiple time\n"
   ]
  },
  {
   "cell_type": "code",
   "execution_count": 11,
   "id": "40a1f840",
   "metadata": {},
   "outputs": [
    {
     "name": "stdout",
     "output_type": "stream",
     "text": [
      "The original tuple : [10, 50, 20, 40, 30]\n",
      "The same tuple elements are : ([10, 50, 20, 40, 30], [10, 50, 20, 40, 30], [10, 50, 20, 40, 30], [10, 50, 20, 40, 30])\n"
     ]
    }
   ],
   "source": [
    "tuple1 = [10,50,20,40,30] \n",
    "print(\"The original tuple : \" + str(tuple1))\n",
    "N = 4\n",
    "res = ((tuple1, ) * N)\n",
    "print(\"The same tuple elements are : \" + str(res))"
   ]
  },
  {
   "cell_type": "markdown",
   "id": "caac04f6",
   "metadata": {},
   "source": [
    "# 7. Python program to insert a number to any position in a list"
   ]
  },
  {
   "cell_type": "code",
   "execution_count": 14,
   "id": "d643f9cf",
   "metadata": {},
   "outputs": [
    {
     "name": "stdout",
     "output_type": "stream",
     "text": [
      "[650, 87, 54, 28, 7786]\n"
     ]
    }
   ],
   "source": [
    "my_list = [650,87,28,7786]\n",
    "insert = 54\n",
    "position = 2\n",
    "my_list.insert(position,insert)\n",
    "print(my_list)"
   ]
  },
  {
   "cell_type": "markdown",
   "id": "412df59c",
   "metadata": {},
   "source": [
    "# 8 Python program to delete an element from a list by index\n",
    "\n"
   ]
  },
  {
   "cell_type": "code",
   "execution_count": 7,
   "id": "eb1462fb",
   "metadata": {},
   "outputs": [
    {
     "ename": "IndentationError",
     "evalue": "expected an indented block after 'if' statement on line 3 (883489362.py, line 4)",
     "output_type": "error",
     "traceback": [
      "\u001b[1;36m  Cell \u001b[1;32mIn[7], line 4\u001b[1;36m\u001b[0m\n\u001b[1;33m    deleted_element = my_list.pop(index_haveto_dlt)\u001b[0m\n\u001b[1;37m    ^\u001b[0m\n\u001b[1;31mIndentationError\u001b[0m\u001b[1;31m:\u001b[0m expected an indented block after 'if' statement on line 3\n"
     ]
    }
   ],
   "source": [
    "my_list = [5,8,97,66,76]\n",
    "index_haveto_dlt = 3\n",
    "if 0 <= index_haveto_dlt < len(my_list):\n",
    "deleted_element = my_list.pop(index_haveto_dlt)\n",
    "print(deleted_element)\n",
    "else:\n",
    "    print(\"invalid index\")\n",
    "    print(my_list)"
   ]
  },
  {
   "cell_type": "markdown",
   "id": "31f241ad",
   "metadata": {},
   "source": [
    "# 9. Write a program to display a no from 1 to 100\n"
   ]
  },
  {
   "cell_type": "code",
   "execution_count": 8,
   "id": "c279b284",
   "metadata": {},
   "outputs": [
    {
     "name": "stdout",
     "output_type": "stream",
     "text": [
      "Enter a number : 7\n",
      "1 2 3 4 5 6 7 "
     ]
    }
   ],
   "source": [
    "n = int(input('Enter a number : '))\n",
    "i = 1\n",
    "while i <= n:\n",
    "    print(i, end=\" \")\n",
    "    i+=1"
   ]
  },
  {
   "cell_type": "markdown",
   "id": "dbf661d9",
   "metadata": {},
   "source": [
    "# 10. Write a Python program to find the sum of all items in a tuple"
   ]
  },
  {
   "cell_type": "code",
   "execution_count": 15,
   "id": "1f4193e7",
   "metadata": {},
   "outputs": [
    {
     "name": "stdout",
     "output_type": "stream",
     "text": [
      "Tuple Items =  (90, 40, 885, 75, 220, 20)\n",
      "\n",
      "The Sum of Tuple Items =  1330\n"
     ]
    }
   ],
   "source": [
    "Tuple = (90, 40, 885, 75, 220, 20)\n",
    "print(\"Tuple Items = \", Tuple)\n",
    "\n",
    "Sum = sum(Tuple)\n",
    "print(\"\\nThe Sum of Tuple Items = \", Sum)\n"
   ]
  },
  {
   "cell_type": "markdown",
   "id": "7e2dd866",
   "metadata": {},
   "source": [
    "# Control structure"
   ]
  },
  {
   "cell_type": "markdown",
   "id": "4510eb32",
   "metadata": {},
   "source": [
    "# 1write a python program to find first N prime numbers"
   ]
  },
  {
   "cell_type": "code",
   "execution_count": 10,
   "id": "52ad3bd6",
   "metadata": {},
   "outputs": [
    {
     "name": "stdout",
     "output_type": "stream",
     "text": [
      "Enter N:7\n",
      "First 7 Prime numbers are:2 3 5 7 11 13 17\n"
     ]
    }
   ],
   "source": [
    "def Prime(n):  \n",
    "    for i in range(2,n//2+1):  \n",
    "        if(n%i==0):  \n",
    "            return(0)  \n",
    "    return(1)  \n",
    "  \n",
    "N=int(input(\"Enter N:\"))  \n",
    "i=2 \n",
    "lst=[] \n",
    "while(1):  \n",
    "    if(Prime(i)):  \n",
    "        lst.append(i) \n",
    "        if(len(lst)==N): \n",
    "            break \n",
    "    i+=1 \n",
    "print(\"First \"+str(N)+\" Prime numbers are:\",end=\"\") \n",
    "print(*lst) "
   ]
  },
  {
   "cell_type": "markdown",
   "id": "0b1a93d9",
   "metadata": {},
   "source": []
  },
  {
   "cell_type": "markdown",
   "id": "5b70dff7",
   "metadata": {},
   "source": [
    "# 12 A list of words is given find the words from the list that have their second character is uppercase.Is-'hello','dear','how','are','you'"
   ]
  },
  {
   "cell_type": "code",
   "execution_count": 19,
   "id": "6cbd5dde",
   "metadata": {},
   "outputs": [
    {
     "name": "stdout",
     "output_type": "stream",
     "text": [
      "Words with the second character in uppercase: ['hOw', 'ARe']\n"
     ]
    }
   ],
   "source": [
    "word_list = ['hello', 'Dear', 'hOw', 'ARe', 'You']\n",
    "result_words = []\n",
    "for word in word_list:\n",
    "    if len(word) >= 2 and word[1].isupper():\n",
    "        result_words.append(word)\n",
    "print(\"Words with the second character in uppercase:\", result_words)\n"
   ]
  },
  {
   "cell_type": "markdown",
   "id": "cf6810cb",
   "metadata": {},
   "source": [
    "# 2# Write the python code that calculates the salary of an employee. Prompt the user to enter the Basic Salary, HRA, TA, and DA. Add these components to calculate the Gross SalaryAlso, deduct 10% of salary from the Gross Salary to be paid as tax and display gross minus tax as net salary"
   ]
  },
  {
   "cell_type": "code",
   "execution_count": 3,
   "id": "0a42984a",
   "metadata": {},
   "outputs": [
    {
     "ename": "SyntaxError",
     "evalue": "invalid syntax (640933144.py, line 1)",
     "output_type": "error",
     "traceback": [
      "\u001b[1;36m  Cell \u001b[1;32mIn[3], line 1\u001b[1;36m\u001b[0m\n\u001b[1;33m    salary, HRA, TA, and DA\u001b[0m\n\u001b[1;37m                     ^\u001b[0m\n\u001b[1;31mSyntaxError\u001b[0m\u001b[1;31m:\u001b[0m invalid syntax\n"
     ]
    }
   ],
   "source": [
    "salary, HRA, TA, and DA\n",
    "basic_salary = float(input(\"Enter Basic Salary: \"))\n",
    "hra = float(input(\"Enter HRA: \"))\n",
    "ta = float(input(\"Enter TA: \"))\n",
    "da = float(input(\"Enter DA: \"))\n",
    "gross_salary = basic_salary + hra + ta + da\n",
    "tax = 0.10 * gross_salary\n",
    "net_salary = gross_salary - tax\n",
    "print(f\"Gross Salary: {gross_salary}\")\n",
    "print(f\"Net Salary: {net_salary}\")"
   ]
  },
  {
   "cell_type": "markdown",
   "id": "4153a6d0",
   "metadata": {},
   "source": [
    "# 3Write a python program to search for a string in the given list"
   ]
  },
  {
   "cell_type": "code",
   "execution_count": 7,
   "id": "1a649237",
   "metadata": {},
   "outputs": [
    {
     "name": "stdout",
     "output_type": "stream",
     "text": [
      "Enter a string to search for: hu\n",
      "The string 'hu' was not  in the list.\n"
     ]
    }
   ],
   "source": [
    "string_list = [\"shoes\", \"skirt\", \"gloves\", \"bat\", \"elbow\"]\n",
    "\n",
    "search_string = input(\"Enter a string to search for: \")\n",
    "\n",
    "found = False\n",
    "\n",
    "for item in string_list:\n",
    "    if search_string.lower() == item.lower(): \n",
    "        found = True\n",
    "        break\n",
    "\n",
    "if found:\n",
    "    print(f\"The string '{search_string}' is  in the list.\")\n",
    "else:\n",
    "    print(f\"The string '{search_string}' was not  in the list.\")"
   ]
  },
  {
   "cell_type": "markdown",
   "id": "40ee90ea",
   "metadata": {},
   "source": [
    "# 4Write a Python function that accepts a string and calculates the number of upper-case letters and lower-case letters"
   ]
  },
  {
   "cell_type": "code",
   "execution_count": 9,
   "id": "38624918",
   "metadata": {},
   "outputs": [
    {
     "name": "stdout",
     "output_type": "stream",
     "text": [
      "Enter a string: Tushar SharmaAAAA\n",
      "Number of upper-case letters: 6\n",
      "Number of lower-case letters: 10\n"
     ]
    }
   ],
   "source": [
    "def count_upper_lower(string):\n",
    "    upper_count = 0\n",
    "    lower_count = 0\n",
    "\n",
    "    for char in string:\n",
    "        if char.isupper():\n",
    "            upper_count += 1\n",
    "        elif char.islower():\n",
    "            lower_count += 1\n",
    "    \n",
    "    return upper_count, lower_count\n",
    "\n",
    "input_string = input(\"Enter a string: \")\n",
    "upper, lower = count_upper_lower(input_string)\n",
    "\n",
    "print(f\"Number of upper-case letters: {upper}\")\n",
    "print(f\"Number of lower-case letters: {lower}\")"
   ]
  },
  {
   "cell_type": "markdown",
   "id": "52f9fd97",
   "metadata": {},
   "source": [
    "# 5 Write a program to display the sum of odd numbers and even numbers that fall between 12 and 37"
   ]
  },
  {
   "cell_type": "code",
   "execution_count": 10,
   "id": "ab34cace",
   "metadata": {},
   "outputs": [
    {
     "name": "stdout",
     "output_type": "stream",
     "text": [
      "Sum of even numbers btwn 12 and 37: 312\n",
      "Sum of odd numbers btwn 12 and 37: 325\n"
     ]
    }
   ],
   "source": [
    "sum_odd = 0\n",
    "sum_even = 0\n",
    "\n",
    "for num in range(12, 38):\n",
    "    if num % 2 == 0:  \n",
    "        sum_even += num\n",
    "    else:\n",
    "        sum_odd += num\n",
    "\n",
    "print(f\"Sum of even numbers btwn 12 and 37: {sum_even}\")\n",
    "print(f\"Sum of odd numbers btwn 12 and 37: {sum_odd}\")"
   ]
  },
  {
   "cell_type": "markdown",
   "id": "a53436e5",
   "metadata": {},
   "source": [
    "# 6 program to print table of any num"
   ]
  },
  {
   "cell_type": "code",
   "execution_count": 11,
   "id": "6439e024",
   "metadata": {},
   "outputs": [
    {
     "name": "stdout",
     "output_type": "stream",
     "text": [
      "Enter a number to print its table: 7\n",
      "table of 7:\n",
      "7 x 1 = 7\n",
      "7 x 2 = 14\n",
      "7 x 3 = 21\n",
      "7 x 4 = 28\n",
      "7 x 5 = 35\n",
      "7 x 6 = 42\n",
      "7 x 7 = 49\n",
      "7 x 8 = 56\n",
      "7 x 9 = 63\n",
      "7 x 10 = 70\n"
     ]
    }
   ],
   "source": [
    "num = int(input(\"Enter a number to print its table: \"))\n",
    "start = 1\n",
    "end = 10\n",
    "print(f\"table of {num}:\")\n",
    "for i in range(start, end + 1):\n",
    "    result = num * i\n",
    "    print(f\"{num} x {i} = {result}\")"
   ]
  },
  {
   "cell_type": "markdown",
   "id": "935e7e1f",
   "metadata": {},
   "source": [
    "# 7 to find sum of first 10 prime num's"
   ]
  },
  {
   "cell_type": "code",
   "execution_count": 12,
   "id": "d7202c16",
   "metadata": {},
   "outputs": [
    {
     "name": "stdout",
     "output_type": "stream",
     "text": [
      "sum of first 10 prime numbers is: 129\n"
     ]
    }
   ],
   "source": [
    "def is_prime(number):\n",
    "    if number <= 1:\n",
    "        return False\n",
    "    elif number <= 3:\n",
    "        return True\n",
    "    elif number % 2 == 0 or number % 3 == 0:\n",
    "        return False\n",
    "    i = 5\n",
    "    while i * i <= number:\n",
    "        if number % i == 0 or number % (i + 2) == 0:\n",
    "            return False\n",
    "        i += 6\n",
    "    return True\n",
    "\n",
    "count = 0\n",
    "number = 2\n",
    "prime_sum = 0\n",
    "\n",
    "while count < 10:\n",
    "    if is_prime(number):\n",
    "        prime_sum += number\n",
    "        count += 1\n",
    "    number += 1\n",
    "\n",
    "print(f\"sum of first 10 prime numbers is: {prime_sum}\")"
   ]
  },
  {
   "cell_type": "markdown",
   "id": "1dd63044",
   "metadata": {},
   "source": [
    "# 8Write a python program to implement arithmetic operations using nested if statement."
   ]
  },
  {
   "cell_type": "code",
   "execution_count": 14,
   "id": "2b316d91",
   "metadata": {},
   "outputs": [
    {
     "name": "stdout",
     "output_type": "stream",
     "text": [
      "Enter the first number: 7\n",
      "Enter the second number: 9\n",
      "Enter the operation (+, -, *, /): -\n",
      "Result: -2.0\n"
     ]
    }
   ],
   "source": [
    "num1 = float(input(\"Enter the first number: \"))\n",
    "num2 = float(input(\"Enter the second number: \"))\n",
    "operation = input(\"Enter the operation (+, -, *, /): \")\n",
    "\n",
    "result = None\n",
    "\n",
    "if operation == \"+\":\n",
    "    result = num1 + num2\n",
    "elif operation == \"-\":\n",
    "    result = num1 - num2\n",
    "elif operation == \"*\":\n",
    "    result = num1 * num2\n",
    "elif operation == \"/\":\n",
    "    if num2 != 0:\n",
    "        result = num1 / num2\n",
    "    else:\n",
    "        print(\"Division by zero error \")\n",
    "else:\n",
    "    print(\"false operation entered\")\n",
    "\n",
    "if result is not None:\n",
    "    print(f\"Result: {result}\")"
   ]
  },
  {
   "cell_type": "markdown",
   "id": "72fccf03",
   "metadata": {},
   "source": [
    "# 9Write a python program to take the temperature in Celsius and convert it to a Fahrenheit"
   ]
  },
  {
   "cell_type": "code",
   "execution_count": 18,
   "id": "607f854f",
   "metadata": {},
   "outputs": [
    {
     "name": "stdout",
     "output_type": "stream",
     "text": [
      "Enter temperature in Celsius: 7\n",
      "7.0 degrees Celsius is equal to 44.6 degrees Fahrenheit.\n"
     ]
    }
   ],
   "source": [
    "celsius = float(input(\"Enter temperature in Celsius: \"))\n",
    "\n",
    "fahrenheit = (celsius * 9/5) + 32\n",
    "\n",
    "print(f\"{celsius} degrees Celsius is equal to {fahrenheit} degrees Fahrenheit.\")"
   ]
  },
  {
   "cell_type": "markdown",
   "id": "11451b8b",
   "metadata": {},
   "source": [
    "# 10 Write a python program to find a maximum and minimum number in a list without using an inbuilt function"
   ]
  },
  {
   "cell_type": "code",
   "execution_count": 20,
   "id": "1a0365a3",
   "metadata": {},
   "outputs": [
    {
     "name": "stdout",
     "output_type": "stream",
     "text": [
      "max num in the list: 9\n",
      "min num in the list: 1\n"
     ]
    }
   ],
   "source": [
    "numbers = [7, 2, 9, 1, 5]\n",
    "\n",
    "max_num = numbers[0]\n",
    "min_num = numbers[0]\n",
    "for num in numbers:\n",
    "    if num > max_num:\n",
    "        max_num = num\n",
    "    elif num < min_num:\n",
    "        min_num = num\n",
    "print(f\"max num in the list: {max_num}\")\n",
    "print(f\"min num in the list: {min_num}\")"
   ]
  },
  {
   "cell_type": "markdown",
   "id": "9625e60b",
   "metadata": {},
   "source": [
    "# 11 Write a program in python to print out the number of seconds in 30-day month 30 days, 24 hours in a day, 60 minutes per day, 60 seconds in a11"
   ]
  },
  {
   "cell_type": "code",
   "execution_count": 22,
   "id": "53247137",
   "metadata": {},
   "outputs": [
    {
     "name": "stdout",
     "output_type": "stream",
     "text": [
      "Number of seconds in a 30-day month: 2592000 seconds\n"
     ]
    }
   ],
   "source": [
    "days_in_mnth = 30\n",
    "hours_in_day = 24\n",
    "mins_in_hour = 60\n",
    "seconds_in_minute = 60\n",
    "\n",
    "total_seconds = days_in_mnth * hours_in_day * mins_in_hour * seconds_in_minute\n",
    "\n",
    "print(f\"Number of seconds in a 30-day month: {total_seconds} seconds\")"
   ]
  },
  {
   "cell_type": "markdown",
   "id": "6c77e8d0",
   "metadata": {},
   "source": [
    "# 12 to find sec in year"
   ]
  },
  {
   "cell_type": "code",
   "execution_count": 25,
   "id": "acc24ee2",
   "metadata": {},
   "outputs": [
    {
     "name": "stdout",
     "output_type": "stream",
     "text": [
      "Number of seconds in a year (365 days): 31536000 seconds\n"
     ]
    }
   ],
   "source": [
    "days_in_year = 365\n",
    "hours_in_day = 24\n",
    "minutes_in_hour = 60\n",
    "seconds_in_minute = 60\n",
    "total_seconds = days_in_year * hours_in_day * minutes_in_hour * seconds_in_minute\n",
    "\n",
    "print(f\"Number of seconds in a year (365 days): {total_seconds} seconds\")"
   ]
  },
  {
   "cell_type": "markdown",
   "id": "111f8450",
   "metadata": {},
   "source": [
    "# 13 A high-speed train can travel at an average speed of 150 mph, how long will it take a train travelling at this speed to travel from London to Glasgow which is 414 miles away?"
   ]
  },
  {
   "cell_type": "code",
   "execution_count": 26,
   "id": "e9497f69",
   "metadata": {},
   "outputs": [
    {
     "name": "stdout",
     "output_type": "stream",
     "text": [
      "It will take 2.76 hours to travel from London to Glasgow at an average speed of 150 mph.\n"
     ]
    }
   ],
   "source": [
    "average_speed_mph = 150  \n",
    "distance_miles = 414\n",
    "\n",
    "\n",
    "time_hours = distance_miles / average_speed_mph\n",
    "\n",
    "print(f\"It will take {time_hours} hours to travel from London to Glasgow at an average speed of 150 mph.\")"
   ]
  },
  {
   "cell_type": "markdown",
   "id": "d4a02a64",
   "metadata": {},
   "source": [
    "# 14Write a python program that defines a variable called days_in_each_school_year and assign 192 to the variable. The program should then print out the total hours that you spend in school from year 7 to year 11, if each day you spend 6 hours in school days_in_each_school_year = 192"
   ]
  },
  {
   "cell_type": "code",
   "execution_count": 29,
   "id": "79892d53",
   "metadata": {},
   "outputs": [
    {
     "name": "stdout",
     "output_type": "stream",
     "text": [
      "Total hours spent in school from year 7 to year 11: 960 hours\n"
     ]
    }
   ],
   "source": [
    "dayschool_year = 192 \n",
    "school_years = 11 - 7 + 1 \n",
    "\n",
    "total_hours_in_school = dayschool_year * school_years\n",
    "\n",
    "print(f\"Total hours spent in school from year 7 to year 11: {total_hours_in_school} hours\")"
   ]
  },
  {
   "cell_type": "markdown",
   "id": "9bddf541",
   "metadata": {},
   "source": [
    "# 15  If the age of Ram, Sam and Khan are input through the keyboard, write a python program to determine the eldest and youngest of the three"
   ]
  },
  {
   "cell_type": "code",
   "execution_count": 30,
   "id": "462170b7",
   "metadata": {},
   "outputs": [
    {
     "name": "stdout",
     "output_type": "stream",
     "text": [
      "Enter Ram's age: 6\n",
      "Enter Sam's age: 7\n",
      "Enter Khan's age: 7\n",
      "The eldest person is 7 years old.\n",
      "The youngest person is 6 years old.\n"
     ]
    }
   ],
   "source": [
    "ram_age = int(input(\"Enter Ram's age: \"))\n",
    "sam_age = int(input(\"Enter Sam's age: \"))\n",
    "khan_age = int(input(\"Enter Khan's age: \"))\n",
    "eldest = ram_age\n",
    "youngest = ram_age\n",
    "\n",
    "\n",
    "if sam_age > eldest:\n",
    "    eldest = sam_age\n",
    "if sam_age < youngest:\n",
    "    youngest = sam_age\n",
    "\n",
    "if khan_age > eldest:\n",
    "    eldest = khan_age\n",
    "if khan_age < youngest:\n",
    "    youngest = khan_age\n",
    "\n",
    "print(f\"The eldest person is {eldest} years old.\")\n",
    "print(f\"The youngest person is {youngest} years old.\")"
   ]
  },
  {
   "cell_type": "markdown",
   "id": "f559f135",
   "metadata": {},
   "source": [
    "# 16Write a python program to rotate a list by right n times with and without slicing technique"
   ]
  },
  {
   "cell_type": "code",
   "execution_count": 34,
   "id": "8820b856",
   "metadata": {},
   "outputs": [
    {
     "name": "stdout",
     "output_type": "stream",
     "text": [
      "Original List: [1, 2, 3, 4, 5]\n",
      "Rotated List (right by 2 times with slicing): [4, 5, 1, 2, 3]\n"
     ]
    }
   ],
   "source": [
    "def rotate_list_right_with_slicing(lst, n):\n",
    "    n = n % len(lst) \n",
    "    return lst[-n:] + lst[:-n]\n",
    "\n",
    "original_list = [1, 2, 3, 4, 5]\n",
    "n = 2\n",
    "rotated_list = rotate_list_right_with_slicing(original_list, n)\n",
    "print(f\"Original List: {original_list}\")\n",
    "print(f\"Rotated List (right by {n} times with slicing): {rotated_list}\")"
   ]
  },
  {
   "cell_type": "markdown",
   "id": "90ae31fb",
   "metadata": {},
   "source": [
    "without using slicing teq"
   ]
  },
  {
   "cell_type": "code",
   "execution_count": 35,
   "id": "f7382921",
   "metadata": {},
   "outputs": [],
   "source": [
    "def rotate_list_right_without_slicing(lst, n):\n",
    "    n = n % len(lst) \n",
    "    for _ in range(n):\n",
    "        temp = lst[-1]\n",
    "        for i in range(len(lst) - 1, 0, -1):\n",
    "            lst[i] = lst[i - 1]\n",
    "        lst[0] = temp\n",
    "    return lst\n"
   ]
  },
  {
   "cell_type": "markdown",
   "id": "4fa38318",
   "metadata": {},
   "source": [
    "# 17 programs for pattern"
   ]
  },
  {
   "cell_type": "code",
   "execution_count": 36,
   "id": "e27c2bfa",
   "metadata": {},
   "outputs": [
    {
     "name": "stdout",
     "output_type": "stream",
     "text": [
      "1\n",
      "22\n",
      "333\n",
      "4444\n",
      "55555\n",
      "1 \n",
      "1 2 1 \n",
      "1 2 3 2 1 \n",
      "1 2 3 4 3 2 1 \n",
      "1 2 3 4 5 4 3 2 1 \n"
     ]
    }
   ],
   "source": [
    "for i in range(1, 6):\n",
    "    for j in range(i):\n",
    "        print(i, end=\"\")\n",
    "    print()\n",
    "\n",
    "\n",
    "for i in range(1, 6):\n",
    "    for j in range(1, i):\n",
    "        print(j, end=\" \")\n",
    "    print(i, end=\" \")\n",
    "    for j in range(i - 1, 0, -1):\n",
    "        print(j, end=\" \")\n",
    "    print()"
   ]
  },
  {
   "cell_type": "code",
   "execution_count": 37,
   "id": "6c74c090",
   "metadata": {},
   "outputs": [
    {
     "name": "stdout",
     "output_type": "stream",
     "text": [
      "P\n",
      "Py\n",
      "Pyt\n",
      "Pyth\n",
      "Pytho\n",
      "Python\n"
     ]
    }
   ],
   "source": [
    "word = \"Python\"\n",
    "for i in range(1, len(word) + 1):\n",
    "    print(word[:i])"
   ]
  },
  {
   "cell_type": "code",
   "execution_count": 38,
   "id": "cb875eef",
   "metadata": {},
   "outputs": [
    {
     "name": "stdout",
     "output_type": "stream",
     "text": [
      "      *\n",
      "     **\n",
      "    ***\n",
      "   ****\n",
      "  *****\n",
      " ******\n",
      "*******\n"
     ]
    }
   ],
   "source": [
    "n = 7  \n",
    "\n",
    "for i in range(1, n + 1):\n",
    "\n",
    "    for j in range(n - i):\n",
    "        print(\" \", end=\"\")\n",
    "\n",
    "    for k in range(i):\n",
    "        print(\"*\", end=\"\")\n",
    "\n",
    "    print()"
   ]
  },
  {
   "cell_type": "code",
   "execution_count": 39,
   "id": "dc0403db",
   "metadata": {},
   "outputs": [
    {
     "name": "stdout",
     "output_type": "stream",
     "text": [
      "*\n",
      "**\n",
      "***\n",
      "****\n",
      "*****\n"
     ]
    }
   ],
   "source": [
    "n = 5  \n",
    "for i in range(1, n + 1):\n",
    "   \n",
    "    for j in range(i):\n",
    "        print(\"*\", end=\"\")\n",
    "    print()"
   ]
  },
  {
   "cell_type": "markdown",
   "id": "984d5056",
   "metadata": {},
   "source": [
    "# 13.pending ques  A dictionary of names and their weights on earth is given. Find how much they will weigh on the\n",
    "\n",
    "moon(Use map and lambda functions) Formula: wMoon (wEarth GMoon) / GEarth\n",
    "\n",
    "i\n",
    "\n",
    "#Weight of people in kg\n",
    "\n",
    "WeightOnEarth = ('John':45, 'Shelly':65, Marry':35)\n",
    "\n",
    "ii) # Gravitational force on the Moon: 1.622 m/s2\n",
    "\n",
    "GMoon = 1.622\n",
    "\n",
    "# Gravitational force on the Earth: 9.81 m/s2\n",
    "\n",
    "GEarth = 9.81"
   ]
  },
  {
   "cell_type": "code",
   "execution_count": 40,
   "id": "e3ae2686",
   "metadata": {},
   "outputs": [
    {
     "name": "stdout",
     "output_type": "stream",
     "text": [
      "John's weight on the Moon: 7.44 kg\n",
      "Shelly's weight on the Moon: 10.75 kg\n",
      "Marry's weight on the Moon: 5.79 kg\n"
     ]
    }
   ],
   "source": [
    "WeightOnEarth = {'John': 45, 'Shelly': 65, 'Marry': 35}\n",
    "GMoon = 1.622\n",
    "\n",
    "\n",
    "GEarth = 9.81\n",
    "WeightOnMoon = list(map(lambda x: x[1] * GMoon / GEarth, WeightOnEarth.items()))\n",
    "\n",
    "for name, weight in zip(WeightOnEarth.keys(), WeightOnMoon):\n",
    "    print(f\"{name}'s weight on the Moon: {weight:.2f} kg\")"
   ]
  },
  {
   "cell_type": "markdown",
   "id": "3b19c524",
   "metadata": {},
   "source": [
    "# Pending 11th Create a dictionary containing three lambda functions square, cube and square root. iE.g. dict = {Square'function for squaring'Cube: function for cube, \"Squareroot': function for square root)  ii) Pass the values (input from the user) to the functions in the dictionary respectively then add the outputs of each function and print it"
   ]
  },
  {
   "cell_type": "code",
   "execution_count": 41,
   "id": "90039779",
   "metadata": {},
   "outputs": [
    {
     "name": "stdout",
     "output_type": "stream",
     "text": [
      "Enter a number: 7\n",
      "Square(7.0) = 49.0\n",
      "Cube(7.0) = 343.0\n",
      "SquareRoot(7.0) = 2.6457513110645907\n",
      "Sum of all results: 394.6457513110646\n"
     ]
    }
   ],
   "source": [
    "func_dict = {\n",
    "    'Square': lambda x: x ** 2,\n",
    "    'Cube': lambda x: x ** 3,\n",
    "    'SquareRoot': lambda x: x ** 0.5\n",
    "}\n",
    "user_input = float(input(\"Enter a number: \"))\n",
    "\n",
    "results = [func(user_input) for func in func_dict.values()]\n",
    "\n",
    "result_sum = sum(results)\n",
    "\n",
    "for key, value in func_dict.items():\n",
    "    print(f\"{key}({user_input}) = {value(user_input)}\")\n",
    "\n",
    "print(f\"Sum of all results: {result_sum}\")"
   ]
  },
  {
   "cell_type": "code",
   "execution_count": null,
   "id": "b345d2dd",
   "metadata": {},
   "outputs": [],
   "source": []
  }
 ],
 "metadata": {
  "kernelspec": {
   "display_name": "Python 3 (ipykernel)",
   "language": "python",
   "name": "python3"
  },
  "language_info": {
   "codemirror_mode": {
    "name": "ipython",
    "version": 3
   },
   "file_extension": ".py",
   "mimetype": "text/x-python",
   "name": "python",
   "nbconvert_exporter": "python",
   "pygments_lexer": "ipython3",
   "version": "3.11.4"
  }
 },
 "nbformat": 4,
 "nbformat_minor": 5
}
