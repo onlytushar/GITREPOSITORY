{
 "cells": [
  {
   "cell_type": "markdown",
   "id": "b00f8c4c",
   "metadata": {},
   "source": [
    "# 1. Case Study: Online Shopping Cart Exception Handling\n",
    "\n",
    "You are working as a Python developer for an e-commerce company, and your team is responsible for building and maintaining the shopping cart module of the website. Customers can add items to their cart, view the cart contents, and proceed to checkout.\n",
    "Recently, there have been reports of unexpected crashes and errors when customers interact with their shopping carts. Your task is to investigate these issues and improve the exception handling in the shopping cart code to make it more robust.\n",
    "Requirements and Scenarios:\n",
    "\n",
    "Scenario 1 - Adding Items to Cart:\n",
    "When a customer adds an item to their cart, they provide the product ID and quantity. Handleexceptions that may occur during this process, such as:\n",
    "i. Product ID not found in the product catalog.\n",
    "ii. Invalid quantity (e.g., negative quantity or non-integer input).\n",
    "\n",
    "Scenario 2 - Viewing Cart Contents:\n",
    "When a customer views their cart, display the list of items and their quantities. Handle exceptions thatmay occur during this process, such as:\n",
    "i. Empty cart (no items added). ii. Unexpected errors (e.g., network issues when fetching cart data).\n",
    "\n",
    "Scenario 3 - Proceeding to Checkout:\n",
    "When a customer proceeds to checkout, validate the cart and process the payment. Handle exceptions that may occur during this process, such as:\n",
    "i. Insufficient stock for some items in the cart.\n",
    "ii. Payment gateway errors.\n",
    "iii. Customer payment method declined.\n",
    "\n",
    "Your Tasks:\n",
    "\n",
    "1. Review the existing shopping cart code to identify potential areas where exceptions may occur\n",
    "2. Enhance the exception handling in the code by adding appropriate try, except, and finally blocks to handle exceptions gracefully. Provide helpful error messages to the user where applicable.\n",
    "3. Ensure that the program continues to run smoothly even when exceptions occur, and customers receive informative feedback.\n",
    "4. Test the shopping cart thoroughly with different scenarios to ensure that it handles exceptions correctly"
   ]
  },
  {
   "cell_type": "markdown",
   "id": "543c3cb9",
   "metadata": {},
   "source": [
    "1(a). Review the existing shopping cart code to identify potential areas where exceptions may occur"
   ]
  },
  {
   "cell_type": "markdown",
   "id": "447d9cb5",
   "metadata": {},
   "source": [
    "1(c) Ensure that the program continues to run smoothly even when exceptions occur, and customers receive informative feedback."
   ]
  },
  {
   "cell_type": "markdown",
   "id": "e60ca8d2",
   "metadata": {},
   "source": [
    "1(d)Test the shopping cart thoroughly with different scenarios to ensure that it handles exceptions correctly"
   ]
  },
  {
   "cell_type": "markdown",
   "id": "f381085d",
   "metadata": {},
   "source": [
    "Scenario 1 - Adding Items to Cart:\n",
    "\n",
    "Valid Addition:\n",
    "\n",
    "Provide a valid product ID and quantity.\n",
    "Ensure the product is added to the cart without any errors.\n",
    "Product Not Found:\n",
    "\n",
    "Provide a non-existent product ID.\n",
    "Verify that the system handles the \"Product ID not found\" exception and provides a suitable error message.\n",
    "Invalid Quantity:\n",
    "\n",
    "Provide a valid product ID but an invalid quantity (e.g., negative or non-integer).\n",
    "Verify that the system handles the \"Invalid quantity\" exception and provides a suitable error message.\n",
    "Scenario 2 - Viewing Cart Contents:\n",
    "\n",
    "Viewing an Empty Cart:\n",
    "\n",
    "Attempt to view the cart when it is empty.\n",
    "Confirm that the system handles the \"Empty cart\" scenario and provides a message indicating the cart is empty.\n",
    "Unexpected Error During Cart View:\n",
    "\n",
    "Simulate an unexpected error (e.g., network failure) when trying to fetch cart data.\n",
    "Ensure that the system gracefully handles the error and provides an error message without crashing.\n",
    "Scenario 3 - Proceeding to Checkout:\n",
    "\n",
    "Valid Checkout:\n",
    "\n",
    "Add valid products to the cart with sufficient stock.\n",
    "Proceed to checkout with a valid payment method.\n",
    "Confirm that the order is successfully placed without errors.\n",
    "Insufficient Stock:\n",
    "\n",
    "Add products to the cart with insufficient stock.\n",
    "Attempt to proceed to checkout.\n",
    "Verify that the system handles the \"Insufficient stock\" scenario and provides an error message.\n",
    "Payment Gateway Error:\n",
    "\n",
    "Add products to the cart with sufficient stock.\n",
    "Simulate a payment gateway error during checkout.\n",
    "Ensure that the system handles the payment gateway error and provides an appropriate error message.\n",
    "Payment Method Declined:\n",
    "\n",
    "Add products to the cart with sufficient stock.\n",
    "Simulate a scenario where the customer's payment method is declined during checkout.\n",
    "Confirm that the system handles the \"Payment method declined\" scenario and provides an error message.\n",
    "Unexpected Error During Checkout:\n",
    "\n",
    "Add products to the cart with sufficient stock.\n",
    "Simulate an unexpected error during the checkout process.\n",
    "Ensure that the system gracefully handles the unexpected error and provides an error message.\n",
    "While performing these tests, pay attention to how the system responds to various scenarios, whether it provides informative error messages to the user, and whether it continues to function smoothly without crashes. Make sure to cover both expected and unexpected scenarios to ensure robust exception handling."
   ]
  },
  {
   "cell_type": "markdown",
   "id": "22c9be2c",
   "metadata": {},
   "source": [
    "# dought"
   ]
  },
  {
   "cell_type": "markdown",
   "id": "4c322ced",
   "metadata": {},
   "source": [
    "# 2. Create a Python function that checks if two given strings are anagrams of each other"
   ]
  },
  {
   "cell_type": "code",
   "execution_count": 14,
   "id": "fb426f8b",
   "metadata": {},
   "outputs": [
    {
     "name": "stdout",
     "output_type": "stream",
     "text": [
      "'listen' and 'silent' are anagrams.\n"
     ]
    }
   ],
   "source": [
    "def are_anagrams(str1, str2):\n",
    "    str1 = str1.replace(\" \", \"\").lower()\n",
    "    str2 = str2.replace(\" \", \"\").lower()\n",
    "    return sorted(str1) == sorted(str2)\n",
    "string1 = \"listen\"\n",
    "string2 = \"silent\"\n",
    "result = are_anagrams(string1, string2)\n",
    "if result:\n",
    "    print(f\"'{string1}' and '{string2}' are anagrams.\")\n",
    "else:\n",
    "    print(f\"'{string1}' and '{string2}' are not anagrams.\")"
   ]
  },
  {
   "cell_type": "markdown",
   "id": "34e11a1c",
   "metadata": {},
   "source": [
    "# 3. Create a Python function that checks if two given strings are anagrams of each other"
   ]
  },
  {
   "cell_type": "code",
   "execution_count": 15,
   "id": "ff3127eb",
   "metadata": {},
   "outputs": [
    {
     "name": "stdout",
     "output_type": "stream",
     "text": [
      "True\n",
      "False\n",
      "True\n"
     ]
    }
   ],
   "source": [
    "def are_anagrams(str1, str2):\n",
    "    str1 = str1.replace(\" \", \"\").lower()\n",
    "    str2 = str2.replace(\" \", \"\").lower()\n",
    "    if len(str1) != len(str2):\n",
    "        return False\n",
    "    char_count1 = {}\n",
    "    char_count2 = {}\n",
    "    for char in str1:\n",
    "        char_count1[char] = char_count1.get(char, 0) + 1\n",
    "    for char in str2:\n",
    "        char_count2[char] = char_count2.get(char, 0) + 1\n",
    "\n",
    "    return char_count1 == char_count2\n",
    "print(are_anagrams(\"listen\", \"silent\"))  \n",
    "print(are_anagrams(\"hello\", \"world\")) \n",
    "print(are_anagrams(\"Astronomer\", \"Moon starer\")) "
   ]
  },
  {
   "cell_type": "markdown",
   "id": "b0d2a503",
   "metadata": {},
   "source": [
    "# 4 Case Study: Online Bookstore Database Connectivity\n",
    "You are a Python developer working on the backend of an online bookstore websiteThe website's database stores information about books, customers, orders, and inventory. Your task is to develop and maintain the database connectivity and interaction components\n",
    "Requirements and Scenarios:\n",
    "\n",
    "Scenario 1 - Customer Registration: When a new customer registers on the website, their information (name, emailpassword) should be stored in the database.\n",
    "Handle exceptions that may occur during the registration process, such as: 1Duplicate email addresses. 2. Database connection errors.\n",
    "\n",
    "Scenario 2 - Book Inventory Management: Implement functionality to add new books to the inventory, update existing book details, and delete books.\n",
    "\n",
    "Handle exceptions that may occur during these operations, such as:\n",
    "1Invalid book data.\n",
    "2. Database errors when updating or deleting books.\n",
    "\n",
    "Scenario 3-Customer Orders: Allow customers to place orders for booksEach order includes customer details and a list of ordered\n",
    "books\n",
    "Handle exceptions that may occur during order placementsuch as\n",
    "1Insufficient stock for some books.\n",
    "2. Database errors when recording orders.\n",
    "Scenario 4-Order History: Customers should be able to view their order history, which includes details of past orders\n",
    "Handle exceptions that may occur when retrieving order history, such as:\n",
    "1. No orders found for the customer\n",
    "2Database connection issues.\n",
    "\n",
    "Your Tasks:\n",
    "\n",
    "1. Review the existing database interaction code to identify potential areas where exceptions\n",
    "\n",
    "may occur.\n",
    "\n",
    "2Enhance the exception handling in the code by adding appropriate try, except, and finally blocks to handle exceptions gracefullyProvide helpful error messages to the user where applicable.\n",
    "\n",
    "3Ensure that the program continues to run smoothly even when exceptions occur, and customers receive informative feedback. 4. Implement database queries and transactions following best practices to maintain data\n",
    "\n",
    "integrity5. Test the website's database interactions thoroughly with different scenarios to ensure that it handles exceptions correctly."
   ]
  },
  {
   "cell_type": "markdown",
   "id": "f007423d",
   "metadata": {},
   "source": [
    "4(1). Review the existing database interaction code to identify potential areas where exceptions may occur."
   ]
  },
  {
   "cell_type": "markdown",
   "id": "d44ebd33",
   "metadata": {},
   "source": [
    "# I think here we have to use try and except.(dought)"
   ]
  },
  {
   "cell_type": "markdown",
   "id": "e61a49d6",
   "metadata": {},
   "source": [
    "# 6. Read a text file containing a list of names or numbers, sort the data, and write the sorted data back to a new file."
   ]
  },
  {
   "cell_type": "code",
   "execution_count": 34,
   "id": "a287ce68",
   "metadata": {},
   "outputs": [
    {
     "name": "stdout",
     "output_type": "stream",
     "text": [
      "Data has been sorted and written to 'sorted_output.txt'.\n"
     ]
    }
   ],
   "source": [
    "\n",
    "with open(\"input.txt\", \"r\") as input_file:\n",
    "    data = [line.strip() for line in input_file.readlines()]\n",
    "sorted_data = sorted(data)\n",
    "with open(\"sorted_output.txt\", \"w\") as output_file:\n",
    "    output_file.write(\"\\n\".join(sorted_data))\n",
    "print(\"Data has been sorted and written to 'sorted_output.txt'.\")\n"
   ]
  },
  {
   "cell_type": "markdown",
   "id": "d835ccd9",
   "metadata": {},
   "source": [
    "# 7. Write a Python script that compares two text files and identifies the differences between them, including addedmodified, and deleted lines\n"
   ]
  },
  {
   "cell_type": "code",
   "execution_count": 37,
   "id": "bb32a4ee",
   "metadata": {},
   "outputs": [
    {
     "name": "stdout",
     "output_type": "stream",
     "text": [
      "Added Lines:\n",
      "+ sharma\n",
      "+ romanpreet kaur\n",
      "Modified Lines:\n",
      "\n",
      "Deleted Lines:\n",
      "- hhaa i am tush"
     ]
    }
   ],
   "source": [
    "import difflib\n",
    "\n",
    "def compare_files(file1, file2):\n",
    "    with open(file1, 'r', encoding='utf-8') as f1, open(file2, 'r', encoding='utf-8') as f2:\n",
    "        lines1 = f1.readlines()\n",
    "        lines2 = f2.readlines()\n",
    "    d = difflib.Differ()\n",
    "    diff = list(d.compare(lines1, lines2))\n",
    "    added_lines = []\n",
    "    modified_lines = []\n",
    "    deleted_lines = []\n",
    "    for line in diff:\n",
    "        if line.startswith('+ '):\n",
    "            added_lines.append(line[2:])\n",
    "        elif line.startswith('- '):\n",
    "            deleted_lines.append(line[2:])\n",
    "        elif line.startswith('  '):\n",
    "            modified_lines.append(line[2:])\n",
    "\n",
    "    return added_lines, modified_lines, deleted_lines\n",
    "if __name__ == \"__main__\":\n",
    "    file1 = \"file1.txt\"\n",
    "    file2 = \"file2.txt\"\n",
    "    added, modified, deleted = compare_files(file1, file2)\n",
    "    print(\"Added Lines:\")\n",
    "    for line in added:\n",
    "        print(f\"+ {line}\", end=\"\")\n",
    "\n",
    "    print(\"\\nModified Lines:\")\n",
    "    for line in modified:\n",
    "        print(f\"  {line}\", end=\"\")\n",
    "\n",
    "    print(\"\\nDeleted Lines:\")\n",
    "    for line in deleted:\n",
    "        print(f\"- {line}\", end=\"\")\n"
   ]
  },
  {
   "cell_type": "markdown",
   "id": "eff37740",
   "metadata": {},
   "source": [
    "# 8. Develop a Python program that compresses a large text file using a compression algorithm (e.g., gzip) and then decompresses it back to its original form."
   ]
  },
  {
   "cell_type": "code",
   "execution_count": 17,
   "id": "d49038e6",
   "metadata": {},
   "outputs": [
    {
     "name": "stdout",
     "output_type": "stream",
     "text": [
      "Compressing large_text_file.txt to compressed_text_file.gz...\n",
      "Compression completed.\n",
      "Decompressing compressed_text_file.gz to decompressed_text_file.txt...\n",
      "Decompression completed.\n",
      "Original file and decompressed file match.\n"
     ]
    }
   ],
   "source": [
    "import gzip\n",
    "def compress_file(input_file, compressed_file):\n",
    "    with open(input_file, 'rb') as f_in, gzip.open(compressed_file, 'wb') as f_out:\n",
    "        f_out.writelines(f_in)\n",
    "def decompress_file(compressed_file, output_file):\n",
    "    with gzip.open(compressed_file, 'rb') as f_in, open(output_file, 'wb') as f_out:\n",
    "        f_out.writelines(f_in)\n",
    "\n",
    "if __name__ == \"__main__\":\n",
    "    input_file = \"large_text_file.txt\"\n",
    "    compressed_file = \"compressed_text_file.gz\"\n",
    "    decompressed_file = \"decompressed_text_file.txt\"\n",
    "\n",
    "    print(f\"Compressing {input_file} to {compressed_file}...\")\n",
    "    compress_file(input_file, compressed_file)\n",
    "    print(\"Compression completed.\")\n",
    "\n",
    "    print(f\"Decompressing {compressed_file} to {decompressed_file}...\")\n",
    "    decompress_file(compressed_file, decompressed_file)\n",
    "    print(\"Decompression completed.\")\n",
    "\n",
    "    with open(input_file, 'rb') as f1, open(decompressed_file, 'rb') as f2:\n",
    "        if f1.read() == f2.read():\n",
    "            print(\"Original file and decompressed file match.\")\n",
    "        else:\n",
    "            print(\"Original file and decompressed file do not match.\")\n"
   ]
  },
  {
   "cell_type": "markdown",
   "id": "ec76d5e8",
   "metadata": {},
   "source": [
    "# 9. Read a binary file (e.g., an image or audio file) in Python and perform an operationsuch as resizing an image or modifying audio data.\n"
   ]
  },
  {
   "cell_type": "code",
   "execution_count": 5,
   "id": "885310b8",
   "metadata": {},
   "outputs": [],
   "source": [
    "from PIL import Image\n",
    "with Image.open(\"input_image.jpg\") as img:\n",
    "    new_size = (200, 200) \n",
    "    resized_img = img.resize(new_size)\n",
    "    resized_img.save(\"output_image.jpg\")\n"
   ]
  },
  {
   "cell_type": "markdown",
   "id": "be0aae47",
   "metadata": {},
   "source": [
    "# 10Write a python program to Combine the contents of multiple text files into a single file using"
   ]
  },
  {
   "cell_type": "code",
   "execution_count": 28,
   "id": "84a58f37",
   "metadata": {},
   "outputs": [
    {
     "name": "stdout",
     "output_type": "stream",
     "text": [
      "Contents of 3 files have been combined into 'combined_output.txt'.\n"
     ]
    }
   ],
   "source": [
    "input_files = [\"file1.txt\", \"file2.txt\", \"file3.txt\"]\n",
    "output_file = \"combined_output.txt\"\n",
    "try:\n",
    "    with open(output_file, 'a') as output:\n",
    "        for file_name in input_files:\n",
    "            try:\n",
    "                with open(file_name, 'r') as input_file:\n",
    "                    output.write(input_file.read())\n",
    "                    output.write('\\n')\n",
    "            except FileNotFoundError:\n",
    "                print(f\"Input file '{file_name}' not found.\")\n",
    "            except Exception as e:\n",
    "                print(f\"Error while processing '{file_name}': {str(e)}\")\n",
    "\n",
    "    print(f\"Contents of {len(input_files)} files have been combined into '{output_file}'.\")\n",
    "\n",
    "except Exception as e:\n",
    "    print(f\"Error: {str(e)}\")\n"
   ]
  },
  {
   "cell_type": "markdown",
   "id": "01620837",
   "metadata": {},
   "source": [
    "# 11. Create a Python script that accepts a text file as a command-line argument and counts the number of words, lines, and characters in the file."
   ]
  },
  {
   "cell_type": "code",
   "execution_count": 1,
   "id": "6388ca70",
   "metadata": {},
   "outputs": [
    {
     "name": "stderr",
     "output_type": "stream",
     "text": [
      "usage: ipykernel_launcher.py [-h] file\n",
      "ipykernel_launcher.py: error: unrecognized arguments: -f\n"
     ]
    },
    {
     "ename": "SystemExit",
     "evalue": "2",
     "output_type": "error",
     "traceback": [
      "An exception has occurred, use %tb to see the full traceback.\n",
      "\u001b[1;31mSystemExit\u001b[0m\u001b[1;31m:\u001b[0m 2\n"
     ]
    },
    {
     "name": "stderr",
     "output_type": "stream",
     "text": [
      "C:\\Users\\hp\\anaconda3\\Lib\\site-packages\\IPython\\core\\interactiveshell.py:3513: UserWarning: To exit: use 'exit', 'quit', or Ctrl-D.\n",
      "  warn(\"To exit: use 'exit', 'quit', or Ctrl-D.\", stacklevel=1)\n"
     ]
    }
   ],
   "source": [
    "import argparse\n",
    "\n",
    "def count_file_stats(file_path):\n",
    "    try:\n",
    "        with open(file_path, 'r', encoding='utf-8') as file:\n",
    "            content = file.read()\n",
    "            lines = content.split('\\n')\n",
    "            num_lines = len(lines)\n",
    "            words = content.split()\n",
    "            num_words = len(words)\n",
    "            \n",
    "            num_chars = len(content)\n",
    "\n",
    "            return num_lines, num_words, num_chars\n",
    "    except FileNotFoundError:\n",
    "        return 0, 0, 0\n",
    "\n",
    "if __name__ == \"__main__\":\n",
    "    parser = argparse.ArgumentParser(description=\"Count words, lines, and characters in a text file.\")\n",
    "    parser.add_argument(\"file\", help=\"Path to the input text file\")\n",
    "    args = parser.parse_args()\n",
    "    file_path = args.file\n",
    "    num_lines, num_words, num_chars = count_file_stats(file_path) \n",
    "    if num_lines > 0:\n",
    "        print(f\"Lines: {num_lines}\")\n",
    "        print(f\"Words: {num_words}\")\n",
    "        print(f\"Characters: {num_chars}\")\n",
    "    else:\n",
    "        print(\"File not found or empty.\")\n"
   ]
  },
  {
   "cell_type": "markdown",
   "id": "0e5dd377",
   "metadata": {},
   "source": [
    "# 12Build a command-line calculator that accepts a mathematical expression as a string argument and evaluates it, then prints the result.\n"
   ]
  },
  {
   "cell_type": "code",
   "execution_count": 2,
   "id": "83355825",
   "metadata": {},
   "outputs": [
    {
     "name": "stdout",
     "output_type": "stream",
     "text": [
      "Usage: python calculator.py 'mathematical_expression'\n"
     ]
    }
   ],
   "source": [
    "import sys\n",
    "\n",
    "def calculate(expression):\n",
    "    try:\n",
    "        result = eval(expression)\n",
    "        return result\n",
    "    except Exception as e:\n",
    "        return f\"Error: {str(e)}\"\n",
    "\n",
    "if __name__ == \"__main__\":\n",
    "    if len(sys.argv) != 2:\n",
    "        print(\"Usage: python calculator.py 'mathematical_expression'\")\n",
    "    else:\n",
    "        input_expression = sys.argv[1]\n",
    "        result = calculate(input_expression)\n",
    "        print(f\"Result: {result}\")\n"
   ]
  },
  {
   "cell_type": "markdown",
   "id": "cc41c460",
   "metadata": {},
   "source": [
    "# 13Implement a Python script that takes a CSV file and two column names as command-line arguments. The script should calculate the average of values in one column and store the result in another column in the same file"
   ]
  },
  {
   "cell_type": "code",
   "execution_count": 27,
   "id": "69d8f3b6",
   "metadata": {},
   "outputs": [
    {
     "name": "stderr",
     "output_type": "stream",
     "text": [
      "usage: ipykernel_launcher.py [-h] input_file source_column target_column\n",
      "ipykernel_launcher.py: error: the following arguments are required: source_column, target_column\n"
     ]
    },
    {
     "ename": "SystemExit",
     "evalue": "2",
     "output_type": "error",
     "traceback": [
      "An exception has occurred, use %tb to see the full traceback.\n",
      "\u001b[1;31mSystemExit\u001b[0m\u001b[1;31m:\u001b[0m 2\n"
     ]
    }
   ],
   "source": [
    "import pandas as pd\n",
    "import argparse\n",
    "\n",
    "def calculate_average(input_file, source_column, target_column):\n",
    "    df = pd.read_csv(input_file)\n",
    "    average = df[source_column].mean()\n",
    "    new_row = {source_column: \"Average\", target_column: average}\n",
    "    df = df.append(new_row, ignore_index=True)\n",
    "    df.to_csv(input_file, index=False)\n",
    "    print(f\"Average calculated and stored in column '{target_column}' of '{input_file}'.\")\n",
    "def main():\n",
    "    parser = argparse.ArgumentParser(description=\"Calculate and store the average of values in a CSV column.\")\n",
    "    parser.add_argument(\"input_file\", help=\"Input CSV file\")\n",
    "    parser.add_argument(\"source_column\", help=\"Name of the column to calculate the average from\")\n",
    "    parser.add_argument(\"target_column\", help=\"Name of the column to store the average in\")\n",
    "    args = parser.parse_args()\n",
    "\n",
    "    calculate_average(args.input_file, args.source_column, args.target_column)\n",
    "\n",
    "if __name__ == \"__main__\":\n",
    "    main()\n",
    "\n"
   ]
  },
  {
   "cell_type": "markdown",
   "id": "9cca67a6",
   "metadata": {},
   "source": [
    "# 14Write a Python script that takes two integer command-line arguments and prints their sum"
   ]
  },
  {
   "cell_type": "code",
   "execution_count": 4,
   "id": "9d276d00",
   "metadata": {},
   "outputs": [
    {
     "name": "stdout",
     "output_type": "stream",
     "text": [
      "Both arguments must be integers.\n"
     ]
    }
   ],
   "source": [
    "import sys\n",
    "\n",
    "if len(sys.argv) != 3:\n",
    "    print(\"Usage: python sum_integers.py <integer1> <integer2>\")\n",
    "else:\n",
    "    try:\n",
    "        # Parse the command-line arguments as integers\n",
    "        num1 = int(sys.argv[1])\n",
    "        num2 = int(sys.argv[2])\n",
    "\n",
    "        # Calculate and print the sum\n",
    "        result = num1 + num2\n",
    "        print(f\"The sum of {num1} and {num2} is {result}\")\n",
    "\n",
    "    except ValueError:\n",
    "        print(\"Both arguments must be integers.\")\n"
   ]
  },
  {
   "cell_type": "markdown",
   "id": "d0ad517e",
   "metadata": {},
   "source": [
    "# 15. Create a custom Python module that includes functions to calculate the factorial of a number and to check if a number is prime. Import and use this module in another Python script."
   ]
  },
  {
   "cell_type": "code",
   "execution_count": 26,
   "id": "f42d1f3d",
   "metadata": {},
   "outputs": [
    {
     "name": "stdout",
     "output_type": "stream",
     "text": [
      "The factorial of 5 is 120\n",
      "17 is a prime number\n"
     ]
    }
   ],
   "source": [
    "import math_functions\n",
    "num = 5\n",
    "fact = math_functions.factorial(num)\n",
    "print(f\"The factorial of {num} is {fact}\")\n",
    "num = 17\n",
    "if math_functions.is_prime(num):\n",
    "    print(f\"{num} is a prime number\")\n",
    "else:\n",
    "    print(f\"{num} is not a prime number\")\n"
   ]
  },
  {
   "cell_type": "markdown",
   "id": "6e351a6e",
   "metadata": {},
   "source": [
    "# 16. Create a Python module named calculator.py that contains functions for each of the four operations (addition, subtractionmultiplication, and division). Each function should take two arguments, perform the respective operation, and return the result"
   ]
  },
  {
   "cell_type": "code",
   "execution_count": 25,
   "id": "64bf8881",
   "metadata": {},
   "outputs": [
    {
     "name": "stdout",
     "output_type": "stream",
     "text": [
      "5 + 3 = 8\n",
      "10 - 4 = 6\n",
      "6 * 7 = 42\n",
      "8 / 2 = 4.0\n"
     ]
    }
   ],
   "source": [
    "# main.py\n",
    "import calculator\n",
    "\n",
    "# Example 1: Addition\n",
    "result = calculator.addition(5, 3)\n",
    "print(f\"5 + 3 = {result}\")\n",
    "\n",
    "# Example 2: Subtraction\n",
    "result = calculator.subtraction(10, 4)\n",
    "print(f\"10 - 4 = {result}\")\n",
    "\n",
    "# Example 3: Multiplication\n",
    "result = calculator.multiplication(6, 7)\n",
    "print(f\"6 * 7 = {result}\")\n",
    "\n",
    "# Example 4: Division\n",
    "try:\n",
    "    result = calculator.division(8, 2)\n",
    "    print(f\"8 / 2 = {result}\")\n",
    "except ValueError as e:\n",
    "    print(e)\n"
   ]
  }
 ],
 "metadata": {
  "kernelspec": {
   "display_name": "Python 3 (ipykernel)",
   "language": "python",
   "name": "python3"
  },
  "language_info": {
   "codemirror_mode": {
    "name": "ipython",
    "version": 3
   },
   "file_extension": ".py",
   "mimetype": "text/x-python",
   "name": "python",
   "nbconvert_exporter": "python",
   "pygments_lexer": "ipython3",
   "version": "3.11.4"
  }
 },
 "nbformat": 4,
 "nbformat_minor": 5
}
