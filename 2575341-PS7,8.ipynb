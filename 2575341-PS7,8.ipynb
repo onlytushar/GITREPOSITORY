{
 "cells": [
  {
   "cell_type": "markdown",
   "id": "8918a57d",
   "metadata": {},
   "source": [
    "# Ques1) Write a Python program to find a target values in a list using linear search with following stepsa. \n",
    "\n",
    "a.Initialize the list to store the input elements.\n",
    "\n",
    "b. Initialize found-False.\n",
    "\n",
    "c. Enter the item to be searched (match_item).\n",
    "\n",
    "d For each element in the list\n",
    "\n",
    "1. if match item value\n",
    "a. return match item's position.\n",
    "\n",
    "e. If the match item is not in the list, display an error message that the item is not found in the list"
   ]
  },
  {
   "cell_type": "code",
   "execution_count": 2,
   "id": "f82a04a8",
   "metadata": {},
   "outputs": [
    {
     "name": "stdout",
     "output_type": "stream",
     "text": [
      "67 found at position 3.\n"
     ]
    }
   ],
   "source": [
    "def linear_search(input_list, match_item):\n",
    "    found = False\n",
    "    position = -1\n",
    "    for index, element in enumerate(input_list):\n",
    "        if element == match_item:\n",
    "            found = True\n",
    "            position = index\n",
    "            break \n",
    "    if found:\n",
    "        return f\"{match_item} found at position {position}.\"\n",
    "    else:\n",
    "        return f\"{match_item} is not found in the list.\"\n",
    "input_list = [12, 34, 45, 67, 89, 23, 56]\n",
    "target_value = 67\n",
    "result = linear_search(input_list, target_value)\n",
    "print(result)"
   ]
  },
  {
   "cell_type": "markdown",
   "id": "b04acb0b",
   "metadata": {},
   "source": [
    "# Ques 2. Write a Python program to implement binary search to find the target values from the list\n",
    "\n",
    "a. Create a separate function to do binary search.\n",
    "\n",
    "b. Get the number of inputs from the user. c. Store the inputs individually in a list.\n",
    "\n",
    "d In binary search function at first sort the list in order to start the search from middle of the list. \n",
    "\n",
    "eCompare the middle element to right and left elements to search target element. f. If greater, move to right of list or else move to another side of the list.\n",
    "\n",
    "g. Print the result along with the position of the element"
   ]
  },
  {
   "cell_type": "code",
   "execution_count": 3,
   "id": "539d201f",
   "metadata": {},
   "outputs": [
    {
     "name": "stdout",
     "output_type": "stream",
     "text": [
      "Enter the number of inputs: 5\n",
      "Enter an element: 34\n",
      "Enter an element: 566\n",
      "Enter an element: 3\n",
      "Enter an element: 45\n",
      "Enter an element: 66\n",
      "Enter the target value to search for: 3\n",
      "3 found at position 0.\n"
     ]
    }
   ],
   "source": [
    "def binary_search(input_list, target):\n",
    "    input_list.sort() \n",
    "    left, right = 0, len(input_list) - 1\n",
    "    while left <= right:\n",
    "        mid = (left + right) // 2\n",
    "        mid_value = input_list[mid]\n",
    "\n",
    "        if mid_value == target:\n",
    "            return f\"{target} found at position {mid}.\"\n",
    "        elif mid_value < target:\n",
    "            left = mid + 1\n",
    "        else:\n",
    "            right = mid - 1\n",
    "\n",
    "    return f\"{target} is not found in the list.\"\n",
    "num_inputs = int(input(\"Enter the number of inputs: \"))\n",
    "input_list = []\n",
    "for _ in range(num_inputs):\n",
    "    element = int(input(\"Enter an element: \"))\n",
    "    input_list.append(element)\n",
    "\n",
    "target_value = int(input(\"Enter the target value to search for: \"))\n",
    "result = binary_search(input_list, target_value)\n",
    "print(result)"
   ]
  },
  {
   "cell_type": "markdown",
   "id": "604177ff",
   "metadata": {},
   "source": [
    "# Ques 3. Write a Python program for sorting a list of elements using selection sort algorithm: \n",
    "a. Assume two lists: Sorted list- Initially empty and Unsorted List-Given input list. \n",
    "    \n",
    "b. In the first iteration, find the smallest element in the unsorted list and place it in the sorted list.\n",
    "\n",
    "c. In the second iteration, find the smallest element in the unsorted list and place it in the correct position by comparing with the element in the sorted list\n",
    "\n",
    "d. In the third iteration, again find the smallest element in the unsorted list and place it in the correct position by comparing with the elements in the sorted list \n",
    "\n",
    "e. This process continues till the unsorted list becomes empty.\n",
    "\n",
    "f. Display the sorted list"
   ]
  },
  {
   "cell_type": "code",
   "execution_count": 6,
   "id": "fce8c1f0",
   "metadata": {},
   "outputs": [
    {
     "name": "stdout",
     "output_type": "stream",
     "text": [
      "Enter elements separated by spaces: 6 87 34 66 876 656\n",
      "Sorted List: [6, 34, 66, 87, 656, 876]\n"
     ]
    }
   ],
   "source": [
    "def selection_sort(input_list):\n",
    "    sorted_list = [] \n",
    "\n",
    "    while input_list: \n",
    "        min_element = min(input_list)  \n",
    "        sorted_list.append(min_element)\n",
    "        input_list.remove(min_element) \n",
    "\n",
    "    return sorted_list\n",
    "input_list = [int(x) for x in input(\"Enter elements separated by spaces: \").split()]\n",
    "sorted_result = selection_sort(input_list)\n",
    "print(\"Sorted List:\", sorted_result)"
   ]
  },
  {
   "cell_type": "markdown",
   "id": "3c4e18ab",
   "metadata": {},
   "source": [
    "# Question 4. Write a Python program for sorting a list of elements using insertion sort algorithm:\n",
    "\n",
    "a. Assume two lists: Sorted list- Initially empty and Unsorted List-Given input list.\n",
    "\n",
    "b. In the first iteration, take the first element in the unsorted list and insert it in Sorted list\n",
    "\n",
    "c In the second iteration, take the second element in the given list and compare with the element in the sorted sub list and place it in the correct position.\n",
    "\n",
    "d In the third iteration, take the third element in the given list and compare with the elements in the sorted sub list and place the elements in the correct position.\n",
    "\n",
    "e. This process continues until the last element is inserted in the sorted sub list\n",
    "\n",
    "f. Display the sorted elements."
   ]
  },
  {
   "cell_type": "code",
   "execution_count": 7,
   "id": "35a81114",
   "metadata": {},
   "outputs": [
    {
     "name": "stdout",
     "output_type": "stream",
     "text": [
      "Enter elements separated by spaces: 676 73 24 5 3 3  2 55 5333 \n",
      "Sorted Elements: [2, 3, 3, 5, 24, 55, 73, 676, 5333]\n"
     ]
    }
   ],
   "source": [
    "def insertion_sort(input_list):\n",
    "    sorted_list = [] \n",
    "\n",
    "    for element in input_list:\n",
    "        if not sorted_list:\n",
    "            sorted_list.append(element)\n",
    "        else:\n",
    "            index_to_insert = 0\n",
    "            while index_to_insert < len(sorted_list) and sorted_list[index_to_insert] < element:\n",
    "                index_to_insert += 1\n",
    "            sorted_list.insert(index_to_insert, element)\n",
    "\n",
    "    return sorted_list\n",
    "input_list = [int(x) for x in input(\"Enter elements separated by spaces: \").split()]\n",
    "sorted_result = insertion_sort(input_list)\n",
    "print(\"Sorted Elements:\", sorted_result)"
   ]
  },
  {
   "cell_type": "markdown",
   "id": "b82beecb",
   "metadata": {},
   "source": [
    "# Question 5. Write a Python program that performs merge sort on a list of numbers: \n",
    "a. Divide: If the given array has zero or one element, return. 1. Otherwise\n",
    "iiDivide the input list in to two halves each containing half of the elements. i.e. left half and right half.\n",
    "\n",
    "b. Conquer: Recursively sort the two lists (left half and right half).\n",
    "\n",
    "a. Call the merge sort on left half.\n",
    "\n",
    "b. Call the merge sort on right halfc. Combine: Combine the elements back in the input list by merging the two sorted\n",
    "\n",
    "lists into a sorted sequence"
   ]
  },
  {
   "cell_type": "code",
   "execution_count": 8,
   "id": "86165dac",
   "metadata": {},
   "outputs": [
    {
     "name": "stdout",
     "output_type": "stream",
     "text": [
      "Enter elements separated by spaces: 77 4 54 345 665 44 56 \n",
      "Sorted List: [4, 44, 54, 56, 77, 345, 665]\n"
     ]
    }
   ],
   "source": [
    "def merge_sort(input_list):\n",
    "    if len(input_list) > 1:\n",
    "        mid = len(input_list) // 2  \n",
    "        left_half = input_list[:mid] \n",
    "        right_half = input_list[mid:]\n",
    "        merge_sort(left_half)\n",
    "        merge_sort(right_half)\n",
    "        i = j = k = 0\n",
    "        while i < len(left_half) and j < len(right_half):\n",
    "            if left_half[i] < right_half[j]:\n",
    "                input_list[k] = left_half[i]\n",
    "                i += 1\n",
    "            else:\n",
    "                input_list[k] = right_half[j]\n",
    "                j += 1\n",
    "            k += 1\n",
    "        while i < len(left_half):\n",
    "            input_list[k] = left_half[i]\n",
    "            i += 1\n",
    "            k += 1\n",
    "\n",
    "        while j < len(right_half):\n",
    "            input_list[k] = right_half[j]\n",
    "            j += 1\n",
    "            k += 1\n",
    "input_list = [int(x) for x in input(\"Enter elements separated by spaces: \").split()]\n",
    "merge_sort(input_list)\n",
    "print(\"Sorted List:\", input_list)"
   ]
  },
  {
   "cell_type": "markdown",
   "id": "175f0fa5",
   "metadata": {},
   "source": [
    "# 6. Write a Python script to perform the following operations on a singly linked list\n",
    "\n",
    "a. Create a list.\n",
    "\n",
    "b. Find the smallest element from the list cInsert an element if it is not a duplicate element\n",
    "\n",
    "dDisplay the elements in reverse order"
   ]
  },
  {
   "cell_type": "code",
   "execution_count": 5,
   "id": "c7c7f24b",
   "metadata": {},
   "outputs": [
    {
     "name": "stdout",
     "output_type": "stream",
     "text": [
      "Smallest element: 1\n",
      "Elements in reverse order:\n",
      "7 -> 1 -> 10 -> 2 -> 8 -> 2 -> 5 -> None\n"
     ]
    }
   ],
   "source": [
    "class Node:\n",
    "    def __init__(self, data):\n",
    "        self.data = data\n",
    "        self.next = None\n",
    "\n",
    "class LinkedList:\n",
    "    def __init__(self):\n",
    "        self.head = None\n",
    "\n",
    "    def append(self, data):\n",
    "        new_node = Node(data)\n",
    "        if not self.head:\n",
    "            self.head = new_node\n",
    "        else:\n",
    "            current = self.head\n",
    "            while current.next:\n",
    "                current = current.next\n",
    "            current.next = new_node\n",
    "\n",
    "    def find_smallest(self):\n",
    "        if not self.head:\n",
    "            return None\n",
    "\n",
    "        smallest = self.head.data\n",
    "        current = self.head.next\n",
    "\n",
    "        while current:\n",
    "            if current.data < smallest:\n",
    "                smallest = current.data\n",
    "            current = current.next\n",
    "\n",
    "        return smallest\n",
    "\n",
    "    def insert_unique(self, data):\n",
    "        if not self.head:\n",
    "            self.head = Node(data)\n",
    "            return\n",
    "\n",
    "        current = self.head\n",
    "\n",
    "        while current:\n",
    "            if current.data == data:\n",
    "                return \n",
    "\n",
    "            if not current.next:\n",
    "                current.next = Node(data)\n",
    "                return\n",
    "\n",
    "            current = current.next\n",
    "\n",
    "    def display_reverse(self):\n",
    "        def display_reverse_recursive(node):\n",
    "            if node:\n",
    "                display_reverse_recursive(node.next)\n",
    "                print(node.data, end=\" -> \")\n",
    "\n",
    "        display_reverse_recursive(self.head)\n",
    "        print(\"None\")\n",
    "\n",
    "linked_list = LinkedList()\n",
    "elements = [5, 2, 8, 2, 10, 1]\n",
    "\n",
    "for element in elements:\n",
    "    linked_list.append(element)\n",
    "\n",
    "smallest = linked_list.find_smallest()\n",
    "print(f\"Smallest element: {smallest}\")\n",
    "\n",
    "element_to_insert = 7\n",
    "linked_list.insert_unique(element_to_insert)\n",
    "\n",
    "print(\"Elements in reverse order:\")\n",
    "linked_list.display_reverse()"
   ]
  },
  {
   "cell_type": "markdown",
   "id": "f0b5a24d",
   "metadata": {},
   "source": [
    "# Ques 7. Write a python program to implement the various operations for Stack ADT\n",
    "\n",
    "i.) Push ii) Pop iii) Display"
   ]
  },
  {
   "cell_type": "code",
   "execution_count": 4,
   "id": "0f482423",
   "metadata": {},
   "outputs": [
    {
     "name": "stdout",
     "output_type": "stream",
     "text": [
      "Stack Contents:\n",
      "3\n",
      "2\n",
      "1\n",
      "Popped item: 3\n",
      "Stack Contents:\n",
      "2\n",
      "1\n"
     ]
    }
   ],
   "source": [
    "class Stack:\n",
    "    def __init__(self):\n",
    "        self.items = []\n",
    "\n",
    "    def push(self, item):\n",
    "        self.items.append(item)\n",
    "\n",
    "    def pop(self):\n",
    "        if not self.is_empty():\n",
    "            return self.items.pop()\n",
    "        else:\n",
    "            return None  # Return None if the stack is empty\n",
    "\n",
    "    def is_empty(self):\n",
    "        return len(self.items) == 0\n",
    "\n",
    "    def display(self):\n",
    "        if not self.is_empty():\n",
    "            print(\"Stack Contents:\")\n",
    "            for item in reversed(self.items):\n",
    "                print(item)\n",
    "        else:\n",
    "            print(\"Stack is empty.\")\n",
    "stack = Stack()\n",
    "\n",
    "stack.push(1)\n",
    "stack.push(2)\n",
    "stack.push(3)\n",
    "\n",
    "stack.display()\n",
    "\n",
    "popped_item = stack.pop()\n",
    "if popped_item is not None:\n",
    "    print(f\"Popped item: {popped_item}\")\n",
    "\n",
    "stack.display()"
   ]
  },
  {
   "cell_type": "markdown",
   "id": "7dc06bd1",
   "metadata": {},
   "source": [
    "# Ques 8) Write a python script to implement the various operations for Queue ADT\n",
    "\n",
    "i) Insert ii) Delete iii) Display"
   ]
  },
  {
   "cell_type": "code",
   "execution_count": 3,
   "id": "8d6544c7",
   "metadata": {},
   "outputs": [
    {
     "name": "stdout",
     "output_type": "stream",
     "text": [
      "Queue Contents:\n",
      "1\n",
      "2\n",
      "3\n",
      "Deleted item: 1\n",
      "Queue Contents:\n",
      "2\n",
      "3\n"
     ]
    }
   ],
   "source": [
    "class Queue:\n",
    "    def __init__(self):\n",
    "        self.items = []\n",
    "\n",
    "    def insert(self, item):\n",
    "        self.items.append(item)\n",
    "\n",
    "    def delete(self):\n",
    "        if not self.is_empty():\n",
    "            return self.items.pop(0)\n",
    "        else:\n",
    "            return None\n",
    "\n",
    "    def is_empty(self):\n",
    "        return len(self.items) == 0\n",
    "\n",
    "    def display(self):\n",
    "        if not self.is_empty():\n",
    "            print(\"Queue Contents:\")\n",
    "            for item in self.items:\n",
    "                print(item)\n",
    "        else:\n",
    "            print(\"Queue is empty.\")\n",
    "\n",
    "queue = Queue()\n",
    "queue.insert(1)\n",
    "queue.insert(2)\n",
    "queue.insert(3)\n",
    "\n",
    "queue.display()\n",
    "\n",
    "deleted_item = queue.delete()\n",
    "if deleted_item is not None:\n",
    "    print(f\"Deleted item: {deleted_item}\")\n",
    "queue.display()"
   ]
  },
  {
   "cell_type": "markdown",
   "id": "df2af4cc",
   "metadata": {},
   "source": [
    "# Ques 9) Write a program in python to convert the following infix expression to its postfix form using push and pop operation for stack.\n",
    "\n",
    "a A/B/C+D*E-F*G\n",
    "\n",
    "b.(B^2-4*A*C) (1/2) (100)\n"
   ]
  },
  {
   "cell_type": "code",
   "execution_count": 1,
   "id": "36a47ec3",
   "metadata": {},
   "outputs": [
    {
     "name": "stdout",
     "output_type": "stream",
     "text": [
      "Postfix for expression a: AB/C/DE*+FG*-\n",
      "Postfix for expression b: B2^4A*C*-12/100\n"
     ]
    }
   ],
   "source": [
    "def infix_to_postfix(expression):\n",
    "    precedence = {'+': 1, '-': 1, '*': 2, '/': 2, '^': 3}\n",
    "    output = []\n",
    "    stack = []\n",
    "\n",
    "    for char in expression:\n",
    "        if char.isalnum():\n",
    "            output.append(char)\n",
    "        elif char == '(':\n",
    "            stack.append(char)\n",
    "        elif char == ')':\n",
    "            while stack and stack[-1] != '(':\n",
    "                output.append(stack.pop())\n",
    "            stack.pop()  # Pop the '('\n",
    "        else:\n",
    "            while stack and precedence.get(char, 0) <= precedence.get(stack[-1], 0):\n",
    "                output.append(stack.pop())\n",
    "            stack.append(char)\n",
    "\n",
    "    while stack:\n",
    "        output.append(stack.pop())\n",
    "\n",
    "    return ''.join(output)\n",
    "expression_a = \"A/B/C+D*E-F*G\"\n",
    "expression_b = \"(B^2-4*A*C)(1/2)(100)\"\n",
    "postfix_a = infix_to_postfix(expression_a)\n",
    "postfix_b = infix_to_postfix(expression_b)\n",
    "\n",
    "print(f\"Postfix for expression a: {postfix_a}\")\n",
    "print(f\"Postfix for expression b: {postfix_b}\")"
   ]
  },
  {
   "cell_type": "code",
   "execution_count": null,
   "id": "217cb302",
   "metadata": {},
   "outputs": [],
   "source": []
  }
 ],
 "metadata": {
  "kernelspec": {
   "display_name": "Python 3 (ipykernel)",
   "language": "python",
   "name": "python3"
  },
  "language_info": {
   "codemirror_mode": {
    "name": "ipython",
    "version": 3
   },
   "file_extension": ".py",
   "mimetype": "text/x-python",
   "name": "python",
   "nbconvert_exporter": "python",
   "pygments_lexer": "ipython3",
   "version": "3.11.4"
  }
 },
 "nbformat": 4,
 "nbformat_minor": 5
}
