{
 "cells": [
  {
   "cell_type": "markdown",
   "id": "de3b2c21",
   "metadata": {},
   "source": [
    "# 1. Write a python function that copies a file reading and writing up to 50 characters at a time"
   ]
  },
  {
   "cell_type": "code",
   "execution_count": 1,
   "id": "6e7d2159",
   "metadata": {},
   "outputs": [
    {
     "name": "stdout",
     "output_type": "stream",
     "text": [
      "File 'source.txt' copied to 'destination.txt' successfully.\n"
     ]
    }
   ],
   "source": [
    "def copy_file(source_file, destination_file):\n",
    "    try:\n",
    "        with open(source_file, 'rb') as source, open(destination_file, 'wb') as destination:\n",
    "            while True:\n",
    "                chunk = source.read(50) \n",
    "                if not chunk:\n",
    "                    break  \n",
    "                destination.write(chunk) \n",
    "        print(f\"File '{source_file}' copied to '{destination_file}' successfully.\")\n",
    "    except FileNotFoundError:\n",
    "        print(\"File not found.\")\n",
    "    except Exception as e:\n",
    "        print(f\"An error occurred: {str(e)}\")\n",
    "\n",
    "copy_file('source.txt', 'destination.txt')"
   ]
  },
  {
   "cell_type": "markdown",
   "id": "a51be7a3",
   "metadata": {},
   "source": [
    "# 2# Print all numbers present in the text file and print the number of blank spaces in that file"
   ]
  },
  {
   "cell_type": "code",
   "execution_count": 2,
   "id": "49741818",
   "metadata": {},
   "outputs": [
    {
     "name": "stdout",
     "output_type": "stream",
     "text": [
      "nums found in file 2\n",
      "nums of blank spaces in our file: 0\n"
     ]
    }
   ],
   "source": [
    "file_path = 'your_file.txt'\n",
    "num_count = 0\n",
    "blank_space_count = 0\n",
    "with open(file_path, 'r') as file:\n",
    "    for line in file:\n",
    "        words = line.split()\n",
    "        for word in words:\n",
    "            if word.isdigit():\n",
    "                num_count += 1\n",
    "            elif word.isspace():\n",
    "                blank_space_count += 1\n",
    "print(\"nums found in file\", num_count)\n",
    "print(\"nums of blank spaces in our file:\", blank_space_count)"
   ]
  },
  {
   "cell_type": "markdown",
   "id": "91ea5f5f",
   "metadata": {},
   "source": [
    "# 3 Write a function called sed that takes as arguments a pattern string, a replacement string, and two filenames; it should read the first file and write the contents into the second file (creating it if necessary)If the pattern string appears anywhere in the file, it should be replaced with the replacement string. If an error occurs while opening, reading, writing, or closing files, your program should catch the exception, print an error message, and exit¶"
   ]
  },
  {
   "cell_type": "code",
   "execution_count": 3,
   "id": "05a1dc02",
   "metadata": {},
   "outputs": [
    {
     "name": "stdout",
     "output_type": "stream",
     "text": [
      "file 'input.txt' processed and saved as 'output.txt'.\n"
     ]
    }
   ],
   "source": [
    "def sed(pattern, replacement, source_file, destination_file):\n",
    "    try:\n",
    "        with open(source_file, 'r') as src_file:\n",
    "            content = src_file.read()\n",
    "        modified_content = content.replace(pattern, replacement)\n",
    "        with open(destination_file, 'w') as dest_file:\n",
    "            dest_file.write(modified_content)\n",
    "        \n",
    "        print(f\"file '{source_file}' processed and saved as '{destination_file}'.\")\n",
    "\n",
    "    except FileNotFoundError:\n",
    "        print(f\"eror: The file '{source_file}' does not exist.\")\n",
    "    except Exception as e:\n",
    "        print(f\"error: {str(e)}\")\n",
    "pattern = 'old_string'\n",
    "replacement = 'new_string'\n",
    "source_file = 'input.txt'\n",
    "destination_file = 'output.txt'\n",
    "\n",
    "sed(pattern, replacement, source_file, destination_file)"
   ]
  },
  {
   "cell_type": "markdown",
   "id": "20a5c32a",
   "metadata": {},
   "source": [
    "# 4 Log File Analysis: You have a log file containing records of user activities on a website\n",
    "\n",
    "Each line in the file represents a log entry with details like timestamp, user ID, and action performedYour task is to analyze this log file. aWrite Python code to read the log file and extract specific information, such as the\n",
    "\n",
    "number of unique users or the most common action. b. How would you handle large log files efficiently without loading the entire file into memory?"
   ]
  },
  {
   "cell_type": "code",
   "execution_count": 14,
   "id": "d270957b",
   "metadata": {},
   "outputs": [
    {
     "name": "stdout",
     "output_type": "stream",
     "text": [
      "Number of unique users: 0\n",
      "An error occurred: list index out of range\n"
     ]
    }
   ],
   "source": [
    "from collections import Counter\n",
    "def analyze_log_file(log_file):\n",
    "    try:\n",
    "        with open(log_file, 'r') as file:\n",
    "            lines = file.readlines()\n",
    "        user_ids = []\n",
    "        actions = []\n",
    "\n",
    "        for line in lines:\n",
    "            parts = line.strip().split()\n",
    "            if len(parts) >= 3:\n",
    "                timestamp, user_id, action = parts[0], parts[1], ' '.join(parts[2:])\n",
    "                user_ids.append(user_id)\n",
    "                actions.append(action)\n",
    "        unique_users = len(set(user_ids))\n",
    "        most_common_action = Counter(actions).most_common(1)\n",
    "\n",
    "        print(f\"Number of unique users: {unique_users}\")\n",
    "        print(f\"Most common action: {most_common_action[0][0]}\")\n",
    "\n",
    "    except FileNotFoundError:\n",
    "        print(f\"Error: The file '{log_file}' does not exist.\")\n",
    "    except Exception as e:\n",
    "        print(f\"An error occurred: {str(e)}\")\n",
    "log_file = 'access_log.txt' \n",
    "analyze_log_file(log_file)"
   ]
  },
  {
   "cell_type": "markdown",
   "id": "1fac5751",
   "metadata": {},
   "source": [
    "# 5Text File Search and Replace: You have a text file with a large amount of textand you want to search for specific words or phrases and replace them with new content.\n",
    "\n",
    "a Write Python code to search for and replace text within a text fileb. How would you handle cases where you need to perform multiple replacements in a single pass"
   ]
  },
  {
   "cell_type": "code",
   "execution_count": 9,
   "id": "2bdcacfb",
   "metadata": {},
   "outputs": [
    {
     "name": "stdout",
     "output_type": "stream",
     "text": [
      "Text replaced successfully in output.txt\n"
     ]
    }
   ],
   "source": [
    "def search_replace_in_file(input_file, output_file, search_text, replace_text):\n",
    "    try:\n",
    "        with open(input_file, 'r') as file:\n",
    "            file_data = file.read()\n",
    "            file_data = file_data.replace(search_text, replace_text)\n",
    "\n",
    "        with open(output_file, 'w') as file:\n",
    "            file.write(file_data)\n",
    "            \n",
    "        print(f\"Text replaced successfully in {output_file}\")\n",
    "    \n",
    "    except FileNotFoundError:\n",
    "        print(\"Input file not found.\")\n",
    "    except Exception as e:\n",
    "        print(f\"An error occurred: {str(e)}\")\n",
    "input_file = 'input.txt'\n",
    "output_file = 'output.txt'\n",
    "search_text = 'old_text'\n",
    "replace_text = 'new_text'\n",
    "search_replace_in_file(input_file, output_file, search_text, replace_text)"
   ]
  },
  {
   "cell_type": "markdown",
   "id": "d027e022",
   "metadata": {},
   "source": [
    "# 6Write a Python script that concatenates the contents of multiple text files into a single output fileAllow the user to specify the input files and the output file"
   ]
  },
  {
   "cell_type": "code",
   "execution_count": 4,
   "id": "5dfe3939",
   "metadata": {},
   "outputs": [
    {
     "name": "stdout",
     "output_type": "stream",
     "text": [
      "Enter an input file path (or 'done' to finish): done\n",
      "Enter the output file path: output\n",
      "Files concatenated successfully!\n"
     ]
    }
   ],
   "source": [
    "def concatenate_files(input_files, output_file):\n",
    "    try:\n",
    "        with open(output_file, 'w') as output:\n",
    "            for input_file in input_files:\n",
    "                with open(input_file, 'r') as file:\n",
    "                    output.write(file.read())\n",
    "        print(\"Files concatenated successfully!\")\n",
    "    except Exception as e:\n",
    "        print(f\"An error occurred: {str(e)}\")\n",
    "\n",
    "if __name__== \"__main__\":\n",
    "    input_files = []\n",
    "    while True:\n",
    "        file_path = input(\"Enter an input file path (or 'done' to finish): \")\n",
    "        if file_path.lower() == 'done':\n",
    "            break\n",
    "        input_files.append(file_path)\n",
    "\n",
    "    output_file = input(\"Enter the output file path: \")\n",
    "\n",
    "    concatenate_files(input_files, output_file)"
   ]
  },
  {
   "cell_type": "markdown",
   "id": "83d12f20",
   "metadata": {},
   "source": [
    "# 7. You are given a text file named input.txt containing a list of words, one word per line. Your task is to create a Python program that reads the contents of input.txt, processes the words, and writes the result to an output file named output.txt. aThe program should perform the following operations:\n",
    "iRead the words from input.txt.\n",
    "\n",
    "ii. For each word in the input file, calculate the length of the word and store it in a dictionary where the word is the key, and the length is the value.\n",
    "\n",
    "iii. Write the word-length dictionary to output.txt in the following format: Word1: Length1 Word2: Length2\n",
    "\n",
    "ivClose both input and output files properly. vWrite Python code to accomplish this task. Ensure proper error handling\n",
    "\n",
    "for file operations\n",
    "\n",
    "Sample Input('input.txt')\n",
    "\n",
    "apple\n",
    "\n",
    "banana cherry date\n",
    "\n",
    "Sample Output(\"output.txt')\n",
    "\n",
    "apple: 5\n",
    "\n",
    "banana: 6\n",
    "\n",
    "cherry: 6\n",
    "\n",
    "date: 4"
   ]
  },
  {
   "cell_type": "code",
   "execution_count": 5,
   "id": "266888b9",
   "metadata": {},
   "outputs": [
    {
     "name": "stdout",
     "output_type": "stream",
     "text": [
      " done \n"
     ]
    }
   ],
   "source": [
    "try:\n",
    "    with open('input.txt', 'r') as input_file:\n",
    "        word_lengths = {}\n",
    "        for line in input_file:\n",
    "            words = line.strip().split()\n",
    "            for word in words:\n",
    "                word_lengths[word] = len(word)\n",
    "    with open('output.txt', 'w') as output_file:\n",
    "        for word, length in word_lengths.items():\n",
    "            output_file.write(f'{word}: {length}\\n')\n",
    "\n",
    "    print(\" done \")\n",
    "\n",
    "except FileNotFoundError:\n",
    "    print(\" ip file 'input.txt' not found.\")\n",
    "except IOError:\n",
    "    print(\"error\")\n",
    "except Exception as e:\n",
    "    print(f\"An unexpected error occurred: {str(e)}\")"
   ]
  },
  {
   "cell_type": "markdown",
   "id": "3fea973f",
   "metadata": {},
   "source": [
    "# 8 Assume that you are developing a student gradebook system for a schoolThe system should allow teachers to input student grades for various subjects, store the data in filesand provide students with the ability to view their grades. Design a Python program that accomplishes the following tasks:\n",
    "iTeachers should be able to input grades for students in different subjects\n",
    "\n",
    "iiStore the student grade data in separate text files for each subject. iii. Students should be able to view their grades for each subject.\n",
    "\n",
    "iv. Implement error handling for file operations, such as file not found or\n",
    "\n",
    "permission issues."
   ]
  },
  {
   "cell_type": "code",
   "execution_count": 10,
   "id": "85706de0",
   "metadata": {},
   "outputs": [
    {
     "name": "stdout",
     "output_type": "stream",
     "text": [
      "\n",
      "Gradebook Menu:\n",
      "1. Input Grades\n",
      "2. View Grades\n",
      "3. Quit\n",
      "Enter your choice (1/2/3): 1\n",
      "Enter student name: tush\n",
      "Enter the subject: math\n",
      "Enter the grade: 45\n",
      "Grade saved for tush in math.\n",
      "\n",
      "Gradebook Menu:\n",
      "1. Input Grades\n",
      "2. View Grades\n",
      "3. Quit\n",
      "Enter your choice (1/2/3): 2\n",
      "Enter student name: tush\n",
      "Grades for tush:\n",
      "math: 45\n",
      "\n",
      "Gradebook Menu:\n",
      "1. Input Grades\n",
      "2. View Grades\n",
      "3. Quit\n",
      "Enter your choice (1/2/3): 3\n",
      "Goodbye!\n"
     ]
    }
   ],
   "source": [
    "import os\n",
    "GRADEBOOK_DIR = 'gradebook_data'\n",
    "\n",
    "def create_gradebook_dir():\n",
    "    try:\n",
    "        os.makedirs(GRADEBOOK_DIR, exist_ok=True)\n",
    "    except OSError as e:\n",
    "        print(f\"Error creating gradebook directory: {e.strerror}\")\n",
    "\n",
    "def input_grades():\n",
    "    create_gradebook_dir()\n",
    "\n",
    "    student_name = input(\"Enter student name: \")\n",
    "    subject = input(\"Enter the subject: \")\n",
    "    grade = input(\"Enter the grade: \")\n",
    "\n",
    "    filename = os.path.join(GRADEBOOK_DIR, f\"{student_name}_{subject}.txt\")\n",
    "\n",
    "    try:\n",
    "        with open(filename, 'a') as file:\n",
    "            file.write(f\"{student_name}: {grade}\\n\")\n",
    "        print(f\"Grade saved for {student_name} in {subject}.\")\n",
    "    except OSError as e:\n",
    "        print(f\"Error saving grade: {e.strerror}\")\n",
    "\n",
    "def view_grades(student_name):\n",
    "    create_gradebook_dir()\n",
    "    student_grades = {}\n",
    "\n",
    "    for filename in os.listdir(GRADEBOOK_DIR):\n",
    "        if filename.endswith('.txt'):\n",
    "            subject = filename.split('_')[1].split('.')[0]\n",
    "            try:\n",
    "                with open(os.path.join(GRADEBOOK_DIR, filename), 'r') as file:\n",
    "                    lines = file.readlines()\n",
    "                    for line in lines:\n",
    "                        parts = line.strip().split(': ')\n",
    "                        if len(parts) == 2:\n",
    "                            name, grade = parts[0], parts[1]\n",
    "                            if name == student_name:\n",
    "                                student_grades[subject] = grade\n",
    "            except OSError as e:\n",
    "                print(f\"Error reading grades for {subject}: {e.strerror}\")\n",
    "\n",
    "    if student_grades:\n",
    "        print(f\"Grades for {student_name}:\")\n",
    "        for subject, grade in student_grades.items():\n",
    "            print(f\"{subject}: {grade}\")\n",
    "    else:\n",
    "        print(f\"No grades found for {student_name}.\")\n",
    "\n",
    "if __name__ == \"__main__\":\n",
    "    while True:\n",
    "        print(\"\\nGradebook Menu:\")\n",
    "        print(\"1. Input Grades\")\n",
    "        print(\"2. View Grades\")\n",
    "        print(\"3. Quit\")\n",
    "        choice = input(\"Enter your choice (1/2/3): \")\n",
    "\n",
    "        if choice == '1':\n",
    "            input_grades()\n",
    "        elif choice == '2':\n",
    "            student_name = input(\"Enter student name: \")\n",
    "            view_grades(student_name)\n",
    "        elif choice == '3':\n",
    "            print(\"Goodbye!\")\n",
    "            break\n",
    "        else:\n",
    "            print(\"Invalid choice. Please select 1, 2, or 3.\")"
   ]
  },
  {
   "cell_type": "code",
   "execution_count": null,
   "id": "c884da30",
   "metadata": {},
   "outputs": [],
   "source": []
  }
 ],
 "metadata": {
  "kernelspec": {
   "display_name": "Python 3 (ipykernel)",
   "language": "python",
   "name": "python3"
  },
  "language_info": {
   "codemirror_mode": {
    "name": "ipython",
    "version": 3
   },
   "file_extension": ".py",
   "mimetype": "text/x-python",
   "name": "python",
   "nbconvert_exporter": "python",
   "pygments_lexer": "ipython3",
   "version": "3.11.4"
  }
 },
 "nbformat": 4,
 "nbformat_minor": 5
}
