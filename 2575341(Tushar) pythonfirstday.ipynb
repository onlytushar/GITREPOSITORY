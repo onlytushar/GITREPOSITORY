{
 "cells": [
  {
   "cell_type": "markdown",
   "id": "29351624",
   "metadata": {},
   "source": [
    "# 1 Manipulating using a list."
   ]
  },
  {
   "cell_type": "markdown",
   "id": "5878cd62",
   "metadata": {},
   "source": [
    "i)To add new elements to the end of list \n"
   ]
  },
  {
   "cell_type": "code",
   "execution_count": 2,
   "id": "5e57d410",
   "metadata": {},
   "outputs": [
    {
     "name": "stdout",
     "output_type": "stream",
     "text": [
      "[1, 22, 34, 2, 576]\n"
     ]
    }
   ],
   "source": [
    "first_list=[1,22,34,2]\n",
    "first_list.append(576)\n",
    "print(first_list)"
   ]
  },
  {
   "cell_type": "markdown",
   "id": "c7a43bf4",
   "metadata": {},
   "source": [
    "ii)To reverse the element in the list\n"
   ]
  },
  {
   "cell_type": "code",
   "execution_count": 5,
   "id": "fafe439b",
   "metadata": {},
   "outputs": [
    {
     "name": "stdout",
     "output_type": "stream",
     "text": [
      "[46, 7, 4]\n"
     ]
    }
   ],
   "source": [
    "first_list=[4,7,46]\n",
    "first_list.reverse()\n",
    "print(first_list)"
   ]
  },
  {
   "cell_type": "markdown",
   "id": "ca106e4c",
   "metadata": {},
   "source": [
    "iii)To display the same list of the elements multiple times"
   ]
  },
  {
   "cell_type": "code",
   "execution_count": 6,
   "id": "a606ebc0",
   "metadata": {},
   "outputs": [
    {
     "name": "stdout",
     "output_type": "stream",
     "text": [
      "[3, 5, 6, 3, 5, 6, 3, 5, 6]\n"
     ]
    }
   ],
   "source": [
    "first_list=[3,5,6]\n",
    "final_list=first_list*3\n",
    "print(final_list)"
   ]
  },
  {
   "cell_type": "markdown",
   "id": "8eae10b7",
   "metadata": {},
   "source": [
    "iv) To concatenate two lists\n",
    "    "
   ]
  },
  {
   "cell_type": "code",
   "execution_count": 12,
   "id": "d06e69c3",
   "metadata": {},
   "outputs": [
    {
     "name": "stdout",
     "output_type": "stream",
     "text": [
      "[77, 73, 74, 88, 84, 86]\n"
     ]
    }
   ],
   "source": [
    "f_list=[77,73,74]\n",
    "second_list=[88,84,86]\n",
    "concatenated_list=f_list+second_list\n",
    "print(concatenated_list)"
   ]
  },
  {
   "cell_type": "markdown",
   "id": "9e931c17",
   "metadata": {},
   "source": [
    "v) To sort elements in list in ascending order\n"
   ]
  },
  {
   "cell_type": "code",
   "execution_count": 14,
   "id": "6ebce63e",
   "metadata": {},
   "outputs": [
    {
     "name": "stdout",
     "output_type": "stream",
     "text": [
      "[8, 9, 33, 36]\n"
     ]
    }
   ],
   "source": [
    "list=[9,36,8,33]\n",
    "list.sort()\n",
    "print(list)"
   ]
  },
  {
   "cell_type": "markdown",
   "id": "2801dcb4",
   "metadata": {},
   "source": [
    "# 2 Write a Python program to do in the tuples"
   ]
  },
  {
   "cell_type": "markdown",
   "id": "7206f60e",
   "metadata": {},
   "source": [
    "i)Manipilate Using Tuple"
   ]
  },
  {
   "cell_type": "code",
   "execution_count": 15,
   "id": "6c0dfc2f",
   "metadata": {},
   "outputs": [
    {
     "name": "stdout",
     "output_type": "stream",
     "text": [
      "New Tuple (4, 24, 34, 14, 74, 44, 54, 64)\n"
     ]
    }
   ],
   "source": [
    "Tuple1=(4,24,34,14,74)\n",
    "new_tup=Tuple1+(44,54,64)\n",
    "print(\"New Tuple\",new_tup)"
   ]
  },
  {
   "cell_type": "markdown",
   "id": "e4eafaa7",
   "metadata": {},
   "source": [
    "ii)To add new elements to the end of tuple"
   ]
  },
  {
   "cell_type": "code",
   "execution_count": 21,
   "id": "4512616e",
   "metadata": {},
   "outputs": [
    {
     "name": "stdout",
     "output_type": "stream",
     "text": [
      "(4, 24, 34, 14, 74, 6, 6, 6)\n"
     ]
    }
   ],
   "source": [
    "element=6\n",
    "Tuple1 += (element,)\n",
    "print(Tuple1)"
   ]
  },
  {
   "cell_type": "markdown",
   "id": "4e2a876c",
   "metadata": {},
   "source": [
    "To rev elements in tuple"
   ]
  },
  {
   "cell_type": "code",
   "execution_count": 24,
   "id": "9fa90ec0",
   "metadata": {},
   "outputs": [
    {
     "name": "stdout",
     "output_type": "stream",
     "text": [
      "(6, 6, 6, 74, 14, 34, 24, 4)\n"
     ]
    }
   ],
   "source": [
    "Tuple1 = Tuple1[::-1]\n",
    "print(Tuple1)"
   ]
  },
  {
   "cell_type": "markdown",
   "id": "12b73c86",
   "metadata": {},
   "source": [
    "To display element of same tuple multi time"
   ]
  },
  {
   "cell_type": "code",
   "execution_count": 28,
   "id": "723764a9",
   "metadata": {},
   "outputs": [
    {
     "name": "stdout",
     "output_type": "stream",
     "text": [
      "(6, 6, 6, 74, 14, 34, 24, 4, 6, 6, 6, 74, 14, 34, 24, 4, 6, 6, 6, 74, 14, 34, 24, 4, 6, 6, 6, 74, 14, 34, 24, 4)\n"
     ]
    }
   ],
   "source": [
    "new_tuple = Tuple1*4\n",
    "print(new_tuple)"
   ]
  },
  {
   "cell_type": "markdown",
   "id": "dc59d38d",
   "metadata": {},
   "source": [
    "To conatenate 2 tuple"
   ]
  },
  {
   "cell_type": "code",
   "execution_count": 29,
   "id": "95746982",
   "metadata": {},
   "outputs": [
    {
     "name": "stdout",
     "output_type": "stream",
     "text": [
      "(6, 6, 6, 74, 14, 34, 24, 4, 8, 56, 7)\n"
     ]
    }
   ],
   "source": [
    "cnct_tuple = (8,56,7)\n",
    "result = Tuple1 + cnct_tuple\n",
    "print(result)"
   ]
  },
  {
   "cell_type": "markdown",
   "id": "65a6b194",
   "metadata": {},
   "source": [
    "To sort the element in the list in asending order"
   ]
  },
  {
   "cell_type": "code",
   "execution_count": 31,
   "id": "6c5aa871",
   "metadata": {},
   "outputs": [
    {
     "name": "stdout",
     "output_type": "stream",
     "text": [
      "srted tuple in asending ord (4, 6, 6, 6, 14, 24, 34, 74)\n"
     ]
    }
   ],
   "source": [
    "sorted_tuple = tuple(sorted(Tuple1))\n",
    "print(\"srted tuple in asending ord\",sorted_tuple)"
   ]
  },
  {
   "cell_type": "markdown",
   "id": "8ba14bac",
   "metadata": {},
   "source": [
    "# 3  Write a python program to implement following using list\n"
   ]
  },
  {
   "cell_type": "markdown",
   "id": "72263c31",
   "metadata": {},
   "source": [
    "1)Create the list with int(min 10 num)"
   ]
  },
  {
   "cell_type": "code",
   "execution_count": 32,
   "id": "60646797",
   "metadata": {},
   "outputs": [
    {
     "name": "stdout",
     "output_type": "stream",
     "text": [
      "[1, 2, 3, 4, 5, 6, 7, 8, 9, 10]\n"
     ]
    }
   ],
   "source": [
    "my_list = [1,2,3,4,5,6,7,8,9,10]\n",
    "print(my_list)"
   ]
  },
  {
   "cell_type": "markdown",
   "id": "317de496",
   "metadata": {},
   "source": [
    "how to display last num in the list"
   ]
  },
  {
   "cell_type": "code",
   "execution_count": 33,
   "id": "52c0ab32",
   "metadata": {},
   "outputs": [
    {
     "name": "stdout",
     "output_type": "stream",
     "text": [
      "last no  10\n"
     ]
    }
   ],
   "source": [
    "last_num = my_list[-1]\n",
    "print(\"last no \",last_num)"
   ]
  },
  {
   "cell_type": "markdown",
   "id": "67f68d13",
   "metadata": {},
   "source": [
    "command for displaying value from the list"
   ]
  },
  {
   "cell_type": "code",
   "execution_count": 35,
   "id": "8eec2b84",
   "metadata": {},
   "outputs": [
    {
     "name": "stdout",
     "output_type": "stream",
     "text": [
      "values from the index 0 to 6 [1, 2, 3, 4, 5, 6]\n"
     ]
    }
   ],
   "source": [
    "values_0_6 = my_list[0:6]\n",
    "print(\"values from the index 0 to 6\",values_0_6)"
   ]
  },
  {
   "cell_type": "markdown",
   "id": "f0cd54dc",
   "metadata": {},
   "source": [
    "cmd for displaying the values from the list\n"
   ]
  },
  {
   "cell_type": "code",
   "execution_count": 39,
   "id": "2c07833a",
   "metadata": {},
   "outputs": [
    {
     "ename": "SyntaxError",
     "evalue": "invalid syntax (2226429536.py, line 1)",
     "output_type": "error",
     "traceback": [
      "\u001b[1;36m  Cell \u001b[1;32mIn[39], line 1\u001b[1;36m\u001b[0m\n\u001b[1;33m    Display values from the list [2:]\u001b[0m\n\u001b[1;37m            ^\u001b[0m\n\u001b[1;31mSyntaxError\u001b[0m\u001b[1;31m:\u001b[0m invalid syntax\n"
     ]
    }
   ],
   "source": [
    "Display values from the list [2:]\n",
    "value = my_list[2:]\n",
    "print(\"values till index 5\",value)"
   ]
  },
  {
   "cell_type": "markdown",
   "id": "f719a0b3",
   "metadata": {},
   "source": [
    "# 4  Write a python program tuple1=(10,50,30,40,50)\n"
   ]
  },
  {
   "cell_type": "markdown",
   "id": "b45e38ea",
   "metadata": {},
   "source": [
    "# 1) to display element 10 and 50 from tuple1\n"
   ]
  },
  {
   "cell_type": "code",
   "execution_count": 40,
   "id": "27d5deb8",
   "metadata": {},
   "outputs": [
    {
     "name": "stdout",
     "output_type": "stream",
     "text": [
      "10 50\n"
     ]
    }
   ],
   "source": [
    "tuple1 = (10,50,30,40,20)\n",
    "print(tuple1[0],tuple1[1])"
   ]
  },
  {
   "cell_type": "markdown",
   "id": "cb0420d1",
   "metadata": {},
   "source": [
    "2)to display length of tuple"
   ]
  },
  {
   "cell_type": "code",
   "execution_count": 41,
   "id": "58b90069",
   "metadata": {},
   "outputs": [
    {
     "name": "stdout",
     "output_type": "stream",
     "text": [
      "5\n"
     ]
    }
   ],
   "source": [
    "print(len(tuple1))"
   ]
  },
  {
   "cell_type": "markdown",
   "id": "23b2bf37",
   "metadata": {},
   "source": [
    "3) to find min element from the tuple\n",
    "\n"
   ]
  },
  {
   "cell_type": "code",
   "execution_count": 42,
   "id": "ee8afdcc",
   "metadata": {},
   "outputs": [
    {
     "name": "stdout",
     "output_type": "stream",
     "text": [
      "10\n"
     ]
    }
   ],
   "source": [
    "min_ele = min(tuple1)\n",
    "print(min_ele)\n"
   ]
  },
  {
   "cell_type": "markdown",
   "id": "3e88ac94",
   "metadata": {},
   "source": [
    "to add all the elements in the tuple"
   ]
  },
  {
   "cell_type": "code",
   "execution_count": 43,
   "id": "8da86c9c",
   "metadata": {},
   "outputs": [
    {
     "name": "stdout",
     "output_type": "stream",
     "text": [
      "150\n"
     ]
    }
   ],
   "source": [
    "sum_ele = sum(tuple1)\n",
    "print(sum_ele)"
   ]
  },
  {
   "cell_type": "markdown",
   "id": "1feaa4e8",
   "metadata": {},
   "source": [
    "display same tuple multiple time\n"
   ]
  },
  {
   "cell_type": "code",
   "execution_count": 11,
   "id": "40a1f840",
   "metadata": {},
   "outputs": [
    {
     "name": "stdout",
     "output_type": "stream",
     "text": [
      "The original tuple : [10, 50, 20, 40, 30]\n",
      "The same tuple elements are : ([10, 50, 20, 40, 30], [10, 50, 20, 40, 30], [10, 50, 20, 40, 30], [10, 50, 20, 40, 30])\n"
     ]
    }
   ],
   "source": [
    "tuple1 = [10,50,20,40,30] \n",
    "print(\"The original tuple : \" + str(tuple1))\n",
    "N = 4\n",
    "res = ((tuple1, ) * N)\n",
    "print(\"The same tuple elements are : \" + str(res))"
   ]
  },
  {
   "cell_type": "markdown",
   "id": "001055c7",
   "metadata": {},
   "source": [
    "# 7. Python program to insert a number to any position in a list"
   ]
  },
  {
   "cell_type": "code",
   "execution_count": 14,
   "id": "45429ca7",
   "metadata": {},
   "outputs": [
    {
     "name": "stdout",
     "output_type": "stream",
     "text": [
      "[650, 87, 54, 28, 7786]\n"
     ]
    }
   ],
   "source": [
    "my_list = [650,87,28,7786]\n",
    "insert = 54\n",
    "position = 2\n",
    "my_list.insert(position,insert)\n",
    "print(my_list)"
   ]
  },
  {
   "cell_type": "markdown",
   "id": "0397446d",
   "metadata": {},
   "source": [
    "# 8 Python program to delete an element from a list by index\n",
    "\n"
   ]
  },
  {
   "cell_type": "code",
   "execution_count": 7,
   "id": "49a520a4",
   "metadata": {},
   "outputs": [
    {
     "ename": "IndentationError",
     "evalue": "expected an indented block after 'if' statement on line 3 (883489362.py, line 4)",
     "output_type": "error",
     "traceback": [
      "\u001b[1;36m  Cell \u001b[1;32mIn[7], line 4\u001b[1;36m\u001b[0m\n\u001b[1;33m    deleted_element = my_list.pop(index_haveto_dlt)\u001b[0m\n\u001b[1;37m    ^\u001b[0m\n\u001b[1;31mIndentationError\u001b[0m\u001b[1;31m:\u001b[0m expected an indented block after 'if' statement on line 3\n"
     ]
    }
   ],
   "source": [
    "my_list = [5,8,97,66,76]\n",
    "index_haveto_dlt = 3\n",
    "if 0 <= index_haveto_dlt < len(my_list):\n",
    "deleted_element = my_list.pop(index_haveto_dlt)\n",
    "print(deleted_element)\n",
    "else:\n",
    "    print(\"invalid index\")\n",
    "    print(my_list)"
   ]
  },
  {
   "cell_type": "markdown",
   "id": "197d6534",
   "metadata": {},
   "source": [
    "# 9. Write a program to display a no from 1 to 100\n"
   ]
  },
  {
   "cell_type": "code",
   "execution_count": 8,
   "id": "1023ab61",
   "metadata": {},
   "outputs": [
    {
     "name": "stdout",
     "output_type": "stream",
     "text": [
      "Enter a number : 7\n",
      "1 2 3 4 5 6 7 "
     ]
    }
   ],
   "source": [
    "n = int(input('Enter a number : '))\n",
    "i = 1\n",
    "while i <= n:\n",
    "    print(i, end=\" \")\n",
    "    i+=1"
   ]
  },
  {
   "cell_type": "markdown",
   "id": "4f12f6e5",
   "metadata": {},
   "source": [
    "# 10. Write a Python program to find the sum of all items in a tuple"
   ]
  },
  {
   "cell_type": "code",
   "execution_count": 15,
   "id": "1416475d",
   "metadata": {},
   "outputs": [
    {
     "name": "stdout",
     "output_type": "stream",
     "text": [
      "Tuple Items =  (90, 40, 885, 75, 220, 20)\n",
      "\n",
      "The Sum of Tuple Items =  1330\n"
     ]
    }
   ],
   "source": [
    "Tuple = (90, 40, 885, 75, 220, 20)\n",
    "print(\"Tuple Items = \", Tuple)\n",
    "\n",
    "Sum = sum(Tuple)\n",
    "print(\"\\nThe Sum of Tuple Items = \", Sum)\n"
   ]
  },
  {
   "cell_type": "markdown",
   "id": "a18dd430",
   "metadata": {},
   "source": [
    "# Control structure"
   ]
  },
  {
   "cell_type": "markdown",
   "id": "cabe17f9",
   "metadata": {},
   "source": [
    "write a python program to find first N prime numbers"
   ]
  },
  {
   "cell_type": "code",
   "execution_count": 10,
   "id": "05e700dc",
   "metadata": {},
   "outputs": [
    {
     "name": "stdout",
     "output_type": "stream",
     "text": [
      "Enter N:7\n",
      "First 7 Prime numbers are:2 3 5 7 11 13 17\n"
     ]
    }
   ],
   "source": [
    "def Prime(n):  \n",
    "    for i in range(2,n//2+1):  \n",
    "        if(n%i==0):  \n",
    "            return(0)  \n",
    "    return(1)  \n",
    "  \n",
    "N=int(input(\"Enter N:\"))  \n",
    "i=2 \n",
    "lst=[] \n",
    "while(1):  \n",
    "    if(Prime(i)):  \n",
    "        lst.append(i) \n",
    "        if(len(lst)==N): \n",
    "            break \n",
    "    i+=1 \n",
    "print(\"First \"+str(N)+\" Prime numbers are:\",end=\"\") \n",
    "print(*lst) "
   ]
  },
  {
   "cell_type": "markdown",
   "id": "a3bcf5cd",
   "metadata": {},
   "source": []
  },
  {
   "cell_type": "markdown",
   "id": "59593598",
   "metadata": {},
   "source": [
    "# A list of words is given find the words from the list that have their second character is uppercase.\n",
    "Is-'hello','dear','how','are','you'"
   ]
  },
  {
   "cell_type": "code",
   "execution_count": 19,
   "id": "d9103d4f",
   "metadata": {},
   "outputs": [
    {
     "name": "stdout",
     "output_type": "stream",
     "text": [
      "Words with the second character in uppercase: ['hOw', 'ARe']\n"
     ]
    }
   ],
   "source": [
    "word_list = ['hello', 'Dear', 'hOw', 'ARe', 'You']\n",
    "result_words = []\n",
    "for word in word_list:\n",
    "    if len(word) >= 2 and word[1].isupper():\n",
    "        result_words.append(word)\n",
    "print(\"Words with the second character in uppercase:\", result_words)\n"
   ]
  },
  {
   "cell_type": "raw",
   "id": "27502a3e",
   "metadata": {},
   "source": [
    "# 5,6,11,13 will be submitted by today sir thanks..."
   ]
  },
  {
   "cell_type": "code",
   "execution_count": null,
   "id": "32b8a289",
   "metadata": {},
   "outputs": [],
   "source": []
  }
 ],
 "metadata": {
  "kernelspec": {
   "display_name": "Python 3 (ipykernel)",
   "language": "python",
   "name": "python3"
  },
  "language_info": {
   "codemirror_mode": {
    "name": "ipython",
    "version": 3
   },
   "file_extension": ".py",
   "mimetype": "text/x-python",
   "name": "python",
   "nbconvert_exporter": "python",
   "pygments_lexer": "ipython3",
   "version": "3.11.4"
  }
 },
 "nbformat": 4,
 "nbformat_minor": 5
}
