{
 "cells": [
  {
   "cell_type": "markdown",
   "id": "01cda4f2",
   "metadata": {},
   "source": [
    "# 1 Write a python function to list even and odd numbers in a list"
   ]
  },
  {
   "cell_type": "code",
   "execution_count": 58,
   "id": "cc6ef1e1",
   "metadata": {},
   "outputs": [
    {
     "name": "stdout",
     "output_type": "stream",
     "text": [
      "Even numbers: [2, 4, 6]\n",
      "Odd numbers: [1, 3, 5]\n"
     ]
    }
   ],
   "source": [
    "def list_even_odd_numbers(numbers):\n",
    "    even_numbers = []\n",
    "    odd_numbers = []\n",
    "    \n",
    "    for num in numbers:\n",
    "        if num % 2 == 0:\n",
    "            even_numbers.append(num)\n",
    "        else:\n",
    "            odd_numbers.append(num)\n",
    "    \n",
    "    return even_numbers, odd_numbers\n",
    "numbers = [1, 2, 3, 4, 5, 6]\n",
    "even, odd = list_even_odd_numbers(numbers)\n",
    "print(\"Even numbers:\", even)\n",
    "print(\"Odd numbers:\", odd)\n",
    "\n",
    "\n",
    "        "
   ]
  },
  {
   "cell_type": "markdown",
   "id": "d51c382b",
   "metadata": {},
   "source": [
    "# 2Write and run a Python program that asks the user to enter 8 integers (one at a time)and then prints out how many of those integers were even numbers. For example, if the user entered 19,6, 9, 20, 13, 7, 6, and 1, then your program should print out 3 since 3 of those numbers were even"
   ]
  },
  {
   "cell_type": "code",
   "execution_count": 59,
   "id": "7faf546f",
   "metadata": {},
   "outputs": [
    {
     "name": "stdout",
     "output_type": "stream",
     "text": [
      "Ent an integer:6\n",
      "1\n",
      "Ent an integer:77\n",
      "Ent an integer:45\n",
      "Ent an integer:87\n",
      "Ent an integer:4\n",
      "2\n",
      "Ent an integer:76\n",
      "3\n"
     ]
    }
   ],
   "source": [
    "even_count = 0\n",
    "for i in range(6):\n",
    "    num = int(input(\"Ent an integer:\"))\n",
    "    if num % 2 == 0:\n",
    "        even_count += 1\n",
    "        print(even_count)"
   ]
  },
  {
   "cell_type": "markdown",
   "id": "bc234dcf",
   "metadata": {},
   "source": [
    "# 3# 1Write a Python program where you take any positive integer n ,if n is evendivide it by 2 to get n/\n",
    "2. If n is odd, multiply it by 3 and add 1 to obtain 3n+ 1. Repeat the process until you reach 1"
   ]
  },
  {
   "cell_type": "code",
   "execution_count": 63,
   "id": "32b79de8",
   "metadata": {},
   "outputs": [
    {
     "name": "stdout",
     "output_type": "stream",
     "text": [
      "entr a positive integer: 3\n",
      "3 10 5 16 8 4 2 1\n"
     ]
    }
   ],
   "source": [
    "def sequence(num):\n",
    "    while num != 1:\n",
    "        print(num, end=' ')\n",
    "        if num % 2 == 0:\n",
    "            num //= 2\n",
    "        else:\n",
    "            num = 3 * num + 1\n",
    "    print(1)\n",
    "\n",
    "try:\n",
    "    num = int(input(\"entr a positive integer: \"))\n",
    "    if num <= 0:\n",
    "        print(\"entr a positive integer.\")\n",
    "    else:\n",
    "        sequence(num)\n",
    "except ValueError:\n",
    "    print(\"error enter a positive integer.\")"
   ]
  },
  {
   "cell_type": "markdown",
   "id": "fb5c3bed",
   "metadata": {},
   "source": [
    "# 4 Write a python program to compute the sum of all the multiple od 3 or 5 below 500."
   ]
  },
  {
   "cell_type": "code",
   "execution_count": 66,
   "id": "e7577081",
   "metadata": {},
   "outputs": [
    {
     "name": "stdout",
     "output_type": "stream",
     "text": [
      "3\n",
      "8\n",
      "14\n",
      "23\n",
      "33\n",
      "45\n",
      "60\n",
      "78\n",
      "98\n",
      "119\n",
      "143\n",
      "168\n",
      "195\n",
      "225\n",
      "258\n",
      "293\n",
      "329\n",
      "368\n",
      "408\n",
      "450\n",
      "495\n",
      "543\n",
      "593\n",
      "644\n",
      "698\n",
      "753\n",
      "810\n",
      "870\n",
      "933\n",
      "998\n",
      "1064\n",
      "1133\n",
      "1203\n",
      "1275\n",
      "1350\n",
      "1428\n",
      "1508\n",
      "1589\n",
      "1673\n",
      "1758\n",
      "1845\n",
      "1935\n",
      "2028\n",
      "2123\n",
      "2219\n",
      "2318\n",
      "2418\n",
      "2520\n",
      "2625\n",
      "2733\n",
      "2843\n",
      "2954\n",
      "3068\n",
      "3183\n",
      "3300\n",
      "3420\n",
      "3543\n",
      "3668\n",
      "3794\n",
      "3923\n",
      "4053\n",
      "4185\n",
      "4320\n",
      "4458\n",
      "4598\n",
      "4739\n",
      "4883\n",
      "5028\n",
      "5175\n",
      "5325\n",
      "5478\n",
      "5633\n",
      "5789\n",
      "5948\n",
      "6108\n",
      "6270\n",
      "6435\n",
      "6603\n",
      "6773\n",
      "6944\n",
      "7118\n",
      "7293\n",
      "7470\n",
      "7650\n",
      "7833\n",
      "8018\n",
      "8204\n",
      "8393\n",
      "8583\n",
      "8775\n",
      "8970\n",
      "9168\n",
      "9368\n",
      "9569\n",
      "9773\n",
      "9978\n",
      "10185\n",
      "10395\n",
      "10608\n",
      "10823\n",
      "11039\n",
      "11258\n",
      "11478\n",
      "11700\n",
      "11925\n",
      "12153\n",
      "12383\n",
      "12614\n",
      "12848\n",
      "13083\n",
      "13320\n",
      "13560\n",
      "13803\n",
      "14048\n",
      "14294\n",
      "14543\n",
      "14793\n",
      "15045\n",
      "15300\n",
      "15558\n",
      "15818\n",
      "16079\n",
      "16343\n",
      "16608\n",
      "16875\n",
      "17145\n",
      "17418\n",
      "17693\n",
      "17969\n",
      "18248\n",
      "18528\n",
      "18810\n",
      "19095\n",
      "19383\n",
      "19673\n",
      "19964\n",
      "20258\n",
      "20553\n",
      "20850\n",
      "21150\n",
      "21453\n",
      "21758\n",
      "22064\n",
      "22373\n",
      "22683\n",
      "22995\n",
      "23310\n",
      "23628\n",
      "23948\n",
      "24269\n",
      "24593\n",
      "24918\n",
      "25245\n",
      "25575\n",
      "25908\n",
      "26243\n",
      "26579\n",
      "26918\n",
      "27258\n",
      "27600\n",
      "27945\n",
      "28293\n",
      "28643\n",
      "28994\n",
      "29348\n",
      "29703\n",
      "30060\n",
      "30420\n",
      "30783\n",
      "31148\n",
      "31514\n",
      "31883\n",
      "32253\n",
      "32625\n",
      "33000\n",
      "33378\n",
      "33758\n",
      "34139\n",
      "34523\n",
      "34908\n",
      "35295\n",
      "35685\n",
      "36078\n",
      "36473\n",
      "36869\n",
      "37268\n",
      "37668\n",
      "38070\n",
      "38475\n",
      "38883\n",
      "39293\n",
      "39704\n",
      "40118\n",
      "40533\n",
      "40950\n",
      "41370\n",
      "41793\n",
      "42218\n",
      "42644\n",
      "43073\n",
      "43503\n",
      "43935\n",
      "44370\n",
      "44808\n",
      "45248\n",
      "45689\n",
      "46133\n",
      "46578\n",
      "47025\n",
      "47475\n",
      "47928\n",
      "48383\n",
      "48839\n",
      "49298\n",
      "49758\n",
      "50220\n",
      "50685\n",
      "51153\n",
      "51623\n",
      "52094\n",
      "52568\n",
      "53043\n",
      "53520\n",
      "54000\n",
      "54483\n",
      "54968\n",
      "55454\n",
      "55943\n",
      "56433\n",
      "56925\n",
      "57420\n",
      "57918\n"
     ]
    }
   ],
   "source": [
    "total_sum = 0\n",
    "for num in range(1, 500):\n",
    "    if num % 3 == 0 or num % 5 == 0:\n",
    "        total_sum += num\n",
    "        print(total_sum)"
   ]
  },
  {
   "cell_type": "markdown",
   "id": "4e72d8c1",
   "metadata": {},
   "source": [
    "# 5)To Find the first N prime no's from a list of given numbers."
   ]
  },
  {
   "cell_type": "code",
   "execution_count": 67,
   "id": "1ea84e6b",
   "metadata": {},
   "outputs": [
    {
     "name": "stdout",
     "output_type": "stream",
     "text": [
      "[2, 3, 5, 7, 11]\n"
     ]
    }
   ],
   "source": [
    "def is_prime(num):\n",
    "    if num <= 1:\n",
    "        return False\n",
    "    if num == 2:\n",
    "        return True\n",
    "    if num % 2 == 0:\n",
    "        return False\n",
    "\n",
    "    for i in range(3, int(num**0.5) + 1, 2):\n",
    "        if num % i == 0:\n",
    "            return False\n",
    "\n",
    "    return True\n",
    "\n",
    "def find_first_n_primes(numbers, n):\n",
    "    prime_numbers = []\n",
    "    for num in numbers:\n",
    "        if is_prime(num):\n",
    "            prime_numbers.append(num)\n",
    "            if len(prime_numbers) == n:\n",
    "                break\n",
    "    return prime_numbers\n",
    "\n",
    "\n",
    "given_numbers = [2, 3, 4, 5, 6, 7, 8, 9, 10, 11]  \n",
    "n = 5 \n",
    "\n",
    "prime_list = find_first_n_primes(given_numbers, n)\n",
    "print(prime_list)"
   ]
  },
  {
   "cell_type": "markdown",
   "id": "73483f4e",
   "metadata": {},
   "source": [
    "# 6 To comute matrix Multiplication"
   ]
  },
  {
   "cell_type": "code",
   "execution_count": 69,
   "id": "352c5e76",
   "metadata": {},
   "outputs": [
    {
     "name": "stdout",
     "output_type": "stream",
     "text": [
      "rsult of matrix multiplication:\n",
      "[510, 368]\n",
      "[183, 233]\n"
     ]
    }
   ],
   "source": [
    "def matrix_multiply(matrixA, matrixB):\n",
    "    if len(matrixA[0]) != len(matrixB):\n",
    "        return \"error dimensions\"\n",
    "    result = [[0 for _ in range(len(matrixB[0]))] for _ in range(len(matrixA))]\n",
    "\n",
    "    for i in range(len(matrixA)):\n",
    "        for j in range(len(matrixB[0])):\n",
    "            for k in range(len(matrixB)):\n",
    "                result[i][j] += matrixA[i][k] * matrixB[k][j]\n",
    "    return result\n",
    "matrix_1 = [[19, 9, 6], [3, 2, 9]]\n",
    "matrix_2 = [[12, 8], [24, 10], [11, 21]]\n",
    "\n",
    "result_matrix = matrix_multiply(matrix_1, matrix_2)\n",
    "if isinstance(result_matrix, str):\n",
    "    print(result_matrix)\n",
    "else:\n",
    "    print(\"rsult of matrix multiplication:\")\n",
    "    for row in result_matrix:\n",
    "        print(row)"
   ]
  },
  {
   "cell_type": "markdown",
   "id": "f6bd7136",
   "metadata": {},
   "source": [
    "# 7 To count no of vowels in string"
   ]
  },
  {
   "cell_type": "code",
   "execution_count": 79,
   "id": "16c399a3",
   "metadata": {},
   "outputs": [],
   "source": [
    "def count_vowels(inputstring):\n",
    "    inputstring = inputstring.lower()\n",
    "    vowels = set(\"a,e,i,o,u\")\n",
    "    count = 0\n",
    "    for char in inputstring:\n",
    "        if char in vowels:\n",
    "            count += 1\n",
    "            return count\n",
    "        text = \"tusharsharma,lovecricket\"\n",
    "        vowel_count = count_vowels(text)\n",
    "        print(vowel_count) \n",
    "        "
   ]
  },
  {
   "cell_type": "markdown",
   "id": "df2cbec3",
   "metadata": {},
   "source": [
    "# 8 to find factorial using recursive function"
   ]
  },
  {
   "cell_type": "code",
   "execution_count": 89,
   "id": "015e5471",
   "metadata": {},
   "outputs": [],
   "source": [
    "def fact_recursive(n):\n",
    "    if n == 0:\n",
    "        return 1\n",
    "    else:\n",
    "        return n * fact_recursive(n - 1)\n",
    "   "
   ]
  },
  {
   "cell_type": "markdown",
   "id": "9e111f09",
   "metadata": {},
   "source": [
    "# 9 to generate fibonacci series"
   ]
  },
  {
   "cell_type": "code",
   "execution_count": 90,
   "id": "2eac0436",
   "metadata": {},
   "outputs": [],
   "source": [
    "def fibonacci_recursive(n):\n",
    "    if n <= 0:\n",
    "        return []\n",
    "    elif n == 1:\n",
    "        return [0]\n",
    "    elif n == 2:\n",
    "        return [0, 1]\n",
    "    else:\n",
    "        fib_series = fibonacci_recursive(n - 1)\n",
    "        fib_series.append(fib_series[-1] + fib_series[-2])\n",
    "        return fib_series\n",
    "    n = 10\n",
    "    fibonacci_series = fibonacci_recursive(n)\n",
    "    print(fibonacci_series)"
   ]
  },
  {
   "cell_type": "markdown",
   "id": "137e3baf",
   "metadata": {},
   "source": [
    "# 10 Python program to display the given integer in reverse order using the function without an in-built function"
   ]
  },
  {
   "cell_type": "code",
   "execution_count": 92,
   "id": "69e7e89f",
   "metadata": {},
   "outputs": [
    {
     "name": "stdout",
     "output_type": "stream",
     "text": [
      "Enter an integer: 877\n",
      "Reversed integer: 778\n"
     ]
    }
   ],
   "source": [
    "def reverse_integer(num):\n",
    "    reversed_num = 0\n",
    "    while num > 0:\n",
    "        last_digit = num % 10\n",
    "        reversed_num = reversed_num * 10 + last_digit\n",
    "        num = num // 10\n",
    "    return reversed_num\n",
    "num = int(input(\"Enter an integer: \"))\n",
    "reversed_num = reverse_integer(num)\n",
    "print(\"Reversed integer:\", reversed_num)"
   ]
  },
  {
   "cell_type": "markdown",
   "id": "53ec10c2",
   "metadata": {},
   "source": [
    "# 11 Write a Python Function to display all integers within the range 200-300 whose sum of digits is an even number"
   ]
  },
  {
   "cell_type": "code",
   "execution_count": 93,
   "id": "e0c13820",
   "metadata": {},
   "outputs": [
    {
     "name": "stdout",
     "output_type": "stream",
     "text": [
      "[200, 202, 204, 206, 208, 211, 213, 215, 217, 219, 220, 222, 224, 226, 228, 231, 233, 235, 237, 239, 240, 242, 244, 246, 248, 251, 253, 255, 257, 259, 260, 262, 264, 266, 268, 271, 273, 275, 277, 279, 280, 282, 284, 286, 288, 291, 293, 295, 297, 299]\n"
     ]
    }
   ],
   "source": [
    "def sum_of_digits_even(num):\n",
    "    digit_sum = sum(int(digit) for digit in str(num))\n",
    "    return digit_sum % 2 == 0\n",
    "\n",
    "def even_digit_sum():\n",
    "    result = []\n",
    "    for num in range(200, 301):\n",
    "        if sum_of_digits_even(num):\n",
    "            result.append(num)\n",
    "    return result\n",
    "\n",
    "even_digit_sum_numbers = even_digit_sum()\n",
    "print(even_digit_sum_numbers)"
   ]
  },
  {
   "cell_type": "markdown",
   "id": "c72d9dfc",
   "metadata": {},
   "source": [
    "# 12to find no of digits nd sum of digits for a given integer"
   ]
  },
  {
   "cell_type": "code",
   "execution_count": 95,
   "id": "d4d6db0f",
   "metadata": {},
   "outputs": [
    {
     "ename": "SyntaxError",
     "evalue": "invalid decimal literal (2275363303.py, line 3)",
     "output_type": "error",
     "traceback": [
      "\u001b[1;36m  Cell \u001b[1;32mIn[95], line 3\u001b[1;36m\u001b[0m\n\u001b[1;33m    digit_sum = 0s\u001b[0m\n\u001b[1;37m                ^\u001b[0m\n\u001b[1;31mSyntaxError\u001b[0m\u001b[1;31m:\u001b[0m invalid decimal literal\n"
     ]
    }
   ],
   "source": [
    "def count_digits_and_sum(number):\n",
    "    \n",
    "    digit_sum = 0s\n",
    "    number = abs(number)\n",
    "\n",
    "    while number > 0:\n",
    "     \n",
    "        digit = number % 10 \n",
    "        count += 1    \n",
    "        digit_sum += digit\n",
    "        \n",
    "        \n",
    "        number //= 10\n",
    "    \n",
    "    return count, digit_sum\n",
    "\n",
    "number = 12345\n",
    "count, digit_sum = count_digits_and_sum(number)\n",
    "print(f\"Number of digits: {count}\")\n",
    "print(f\"Sum of digits: {digit_sum}\")"
   ]
  },
  {
   "cell_type": "markdown",
   "id": "9d09c72f",
   "metadata": {},
   "source": [
    "# 13 Write functions called is_sorted that takes a list as a parameter and returns True if the list is sorted in ascending order and False otherwise and has duplicates that takes a list and returns True if there is any element that appears more than once. It should not modify the original list"
   ]
  },
  {
   "cell_type": "code",
   "execution_count": 99,
   "id": "47a0a096",
   "metadata": {},
   "outputs": [
    {
     "name": "stdout",
     "output_type": "stream",
     "text": [
      "True\n",
      "False\n",
      "False\n",
      "False\n"
     ]
    }
   ],
   "source": [
    "def is_sorted(input_list):\n",
    "    return all(input_list[i] <= input_list[i + 1] for i in range(len(input_list) - 1))\n",
    "\n",
    "def has_duplicates(input_list):\n",
    "    seen = set()\n",
    "    \n",
    "    for element in input_list:\n",
    "        if element in seen:\n",
    "            return True\n",
    "        seen.add(element)\n",
    "    \n",
    "    return False\n",
    "\n",
    "sorted_list = [1, 22, 33, 47, 59]\n",
    "unsorted_list = [55, 38, 14, 64, 2]\n",
    "list_with_duplicates = [11, 62, 22, 63, 44]\n",
    "\n",
    "print(is_sorted(sorted_list))  \n",
    "print(is_sorted(unsorted_list))  \n",
    "print(has_duplicates(sorted_list))  \n",
    "print(has_duplicates(list_with_duplicates))  "
   ]
  },
  {
   "cell_type": "markdown",
   "id": "36f59002",
   "metadata": {},
   "source": [
    "# 14# Write functions called nested_sum that takes a list of integers and adds up the elements from all the nested lists and cumsum that takes a list of numbers and returns the cumulative sum; that isa new list where the ith element is the sum of the first i + 1 elements from the original list"
   ]
  },
  {
   "cell_type": "code",
   "execution_count": 101,
   "id": "10a5eb06",
   "metadata": {},
   "outputs": [
    {
     "name": "stdout",
     "output_type": "stream",
     "text": [
      "45\n",
      "[1, 3, 6, 10, 15]\n"
     ]
    }
   ],
   "source": [
    "def sum(input_list):\n",
    "    total = 0\n",
    "    for item in input_list:\n",
    "        if isinstance(item, list):\n",
    "            total += sum(item)\n",
    "        else:\n",
    "            total += item\n",
    "    return total\n",
    "\n",
    "def cumsum(input_list):\n",
    "    cumulative_sum = []\n",
    "    current_sum = 0\n",
    "    for num in input_list:\n",
    "        current_sum += num\n",
    "        cumulative_sum.append(current_sum)\n",
    "    return cumulative_sum\n",
    "\n",
    "nested_list = [1, 2, [3, 4, [5, 6]], 7, [8, [9]]]\n",
    "result_sum = sum(nested_list)\n",
    "print(result_sum)\n",
    "\n",
    "numbers = [1, 2, 3, 4, 5]\n",
    "result_cumsum = cumsum(numbers)\n",
    "print(result_cumsum)"
   ]
  },
  {
   "cell_type": "code",
   "execution_count": null,
   "id": "c2c9f28a",
   "metadata": {},
   "outputs": [],
   "source": []
  }
 ],
 "metadata": {
  "kernelspec": {
   "display_name": "Python 3 (ipykernel)",
   "language": "python",
   "name": "python3"
  },
  "language_info": {
   "codemirror_mode": {
    "name": "ipython",
    "version": 3
   },
   "file_extension": ".py",
   "mimetype": "text/x-python",
   "name": "python",
   "nbconvert_exporter": "python",
   "pygments_lexer": "ipython3",
   "version": "3.11.4"
  }
 },
 "nbformat": 4,
 "nbformat_minor": 5
}
